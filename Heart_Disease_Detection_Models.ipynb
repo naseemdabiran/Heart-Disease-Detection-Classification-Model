{
  "cells": [
    {
      "cell_type": "markdown",
      "metadata": {
        "id": "YZKdEBkwkvod"
      },
      "source": [
        "\n",
        "Prediction of Heart Disease Using Supervised Machine Learning Classification Algorithms\n",
        "\n"
      ]
    },
    {
      "cell_type": "code",
      "execution_count": null,
      "metadata": {
        "id": "dH2bzi4Pkthe"
      },
      "outputs": [],
      "source": [
        "# Import Libraries\n",
        "\n",
        "import pandas as pd\n",
        "import matplotlib as plt\n",
        "import matplotlib.pyplot as plt\n",
        "import seaborn as sns\n",
        "import numpy as np"
      ]
    },
    {
      "cell_type": "code",
      "execution_count": null,
      "metadata": {
        "id": "z_bxsC8tlkAE"
      },
      "outputs": [],
      "source": [
        "heart_disease = pd.read_csv('/content/heart_2020_cleaned.csv')"
      ]
    },
    {
      "cell_type": "code",
      "execution_count": null,
      "metadata": {
        "id": "ijhVgWjylvzv",
        "colab": {
          "base_uri": "https://localhost:8080/",
          "height": 270
        },
        "outputId": "28ec17dc-ca10-4289-b234-95a9e95f240a"
      },
      "outputs": [
        {
          "output_type": "execute_result",
          "data": {
            "text/plain": [
              "  HeartDisease    BMI Smoking AlcoholDrinking Stroke  PhysicalHealth  \\\n",
              "0           No  16.60     Yes              No     No             3.0   \n",
              "1           No  20.34      No              No    Yes             0.0   \n",
              "2           No  26.58     Yes              No     No            20.0   \n",
              "3           No  24.21      No              No     No             0.0   \n",
              "4           No  23.71      No              No     No            28.0   \n",
              "\n",
              "   MentalHealth DiffWalking     Sex  AgeCategory   Race Diabetic  \\\n",
              "0          30.0          No  Female        55-59  White      Yes   \n",
              "1           0.0          No  Female  80 or older  White       No   \n",
              "2          30.0          No    Male        65-69  White      Yes   \n",
              "3           0.0          No  Female        75-79  White       No   \n",
              "4           0.0         Yes  Female        40-44  White       No   \n",
              "\n",
              "  PhysicalActivity  GenHealth  SleepTime Asthma KidneyDisease SkinCancer  \n",
              "0              Yes  Very good        5.0    Yes            No        Yes  \n",
              "1              Yes  Very good        7.0     No            No         No  \n",
              "2              Yes       Fair        8.0    Yes            No         No  \n",
              "3               No       Good        6.0     No            No        Yes  \n",
              "4              Yes  Very good        8.0     No            No         No  "
            ],
            "text/html": [
              "\n",
              "  <div id=\"df-b156b9df-8de3-461a-8195-48db557d671b\">\n",
              "    <div class=\"colab-df-container\">\n",
              "      <div>\n",
              "<style scoped>\n",
              "    .dataframe tbody tr th:only-of-type {\n",
              "        vertical-align: middle;\n",
              "    }\n",
              "\n",
              "    .dataframe tbody tr th {\n",
              "        vertical-align: top;\n",
              "    }\n",
              "\n",
              "    .dataframe thead th {\n",
              "        text-align: right;\n",
              "    }\n",
              "</style>\n",
              "<table border=\"1\" class=\"dataframe\">\n",
              "  <thead>\n",
              "    <tr style=\"text-align: right;\">\n",
              "      <th></th>\n",
              "      <th>HeartDisease</th>\n",
              "      <th>BMI</th>\n",
              "      <th>Smoking</th>\n",
              "      <th>AlcoholDrinking</th>\n",
              "      <th>Stroke</th>\n",
              "      <th>PhysicalHealth</th>\n",
              "      <th>MentalHealth</th>\n",
              "      <th>DiffWalking</th>\n",
              "      <th>Sex</th>\n",
              "      <th>AgeCategory</th>\n",
              "      <th>Race</th>\n",
              "      <th>Diabetic</th>\n",
              "      <th>PhysicalActivity</th>\n",
              "      <th>GenHealth</th>\n",
              "      <th>SleepTime</th>\n",
              "      <th>Asthma</th>\n",
              "      <th>KidneyDisease</th>\n",
              "      <th>SkinCancer</th>\n",
              "    </tr>\n",
              "  </thead>\n",
              "  <tbody>\n",
              "    <tr>\n",
              "      <th>0</th>\n",
              "      <td>No</td>\n",
              "      <td>16.60</td>\n",
              "      <td>Yes</td>\n",
              "      <td>No</td>\n",
              "      <td>No</td>\n",
              "      <td>3.0</td>\n",
              "      <td>30.0</td>\n",
              "      <td>No</td>\n",
              "      <td>Female</td>\n",
              "      <td>55-59</td>\n",
              "      <td>White</td>\n",
              "      <td>Yes</td>\n",
              "      <td>Yes</td>\n",
              "      <td>Very good</td>\n",
              "      <td>5.0</td>\n",
              "      <td>Yes</td>\n",
              "      <td>No</td>\n",
              "      <td>Yes</td>\n",
              "    </tr>\n",
              "    <tr>\n",
              "      <th>1</th>\n",
              "      <td>No</td>\n",
              "      <td>20.34</td>\n",
              "      <td>No</td>\n",
              "      <td>No</td>\n",
              "      <td>Yes</td>\n",
              "      <td>0.0</td>\n",
              "      <td>0.0</td>\n",
              "      <td>No</td>\n",
              "      <td>Female</td>\n",
              "      <td>80 or older</td>\n",
              "      <td>White</td>\n",
              "      <td>No</td>\n",
              "      <td>Yes</td>\n",
              "      <td>Very good</td>\n",
              "      <td>7.0</td>\n",
              "      <td>No</td>\n",
              "      <td>No</td>\n",
              "      <td>No</td>\n",
              "    </tr>\n",
              "    <tr>\n",
              "      <th>2</th>\n",
              "      <td>No</td>\n",
              "      <td>26.58</td>\n",
              "      <td>Yes</td>\n",
              "      <td>No</td>\n",
              "      <td>No</td>\n",
              "      <td>20.0</td>\n",
              "      <td>30.0</td>\n",
              "      <td>No</td>\n",
              "      <td>Male</td>\n",
              "      <td>65-69</td>\n",
              "      <td>White</td>\n",
              "      <td>Yes</td>\n",
              "      <td>Yes</td>\n",
              "      <td>Fair</td>\n",
              "      <td>8.0</td>\n",
              "      <td>Yes</td>\n",
              "      <td>No</td>\n",
              "      <td>No</td>\n",
              "    </tr>\n",
              "    <tr>\n",
              "      <th>3</th>\n",
              "      <td>No</td>\n",
              "      <td>24.21</td>\n",
              "      <td>No</td>\n",
              "      <td>No</td>\n",
              "      <td>No</td>\n",
              "      <td>0.0</td>\n",
              "      <td>0.0</td>\n",
              "      <td>No</td>\n",
              "      <td>Female</td>\n",
              "      <td>75-79</td>\n",
              "      <td>White</td>\n",
              "      <td>No</td>\n",
              "      <td>No</td>\n",
              "      <td>Good</td>\n",
              "      <td>6.0</td>\n",
              "      <td>No</td>\n",
              "      <td>No</td>\n",
              "      <td>Yes</td>\n",
              "    </tr>\n",
              "    <tr>\n",
              "      <th>4</th>\n",
              "      <td>No</td>\n",
              "      <td>23.71</td>\n",
              "      <td>No</td>\n",
              "      <td>No</td>\n",
              "      <td>No</td>\n",
              "      <td>28.0</td>\n",
              "      <td>0.0</td>\n",
              "      <td>Yes</td>\n",
              "      <td>Female</td>\n",
              "      <td>40-44</td>\n",
              "      <td>White</td>\n",
              "      <td>No</td>\n",
              "      <td>Yes</td>\n",
              "      <td>Very good</td>\n",
              "      <td>8.0</td>\n",
              "      <td>No</td>\n",
              "      <td>No</td>\n",
              "      <td>No</td>\n",
              "    </tr>\n",
              "  </tbody>\n",
              "</table>\n",
              "</div>\n",
              "      <button class=\"colab-df-convert\" onclick=\"convertToInteractive('df-b156b9df-8de3-461a-8195-48db557d671b')\"\n",
              "              title=\"Convert this dataframe to an interactive table.\"\n",
              "              style=\"display:none;\">\n",
              "        \n",
              "  <svg xmlns=\"http://www.w3.org/2000/svg\" height=\"24px\"viewBox=\"0 0 24 24\"\n",
              "       width=\"24px\">\n",
              "    <path d=\"M0 0h24v24H0V0z\" fill=\"none\"/>\n",
              "    <path d=\"M18.56 5.44l.94 2.06.94-2.06 2.06-.94-2.06-.94-.94-2.06-.94 2.06-2.06.94zm-11 1L8.5 8.5l.94-2.06 2.06-.94-2.06-.94L8.5 2.5l-.94 2.06-2.06.94zm10 10l.94 2.06.94-2.06 2.06-.94-2.06-.94-.94-2.06-.94 2.06-2.06.94z\"/><path d=\"M17.41 7.96l-1.37-1.37c-.4-.4-.92-.59-1.43-.59-.52 0-1.04.2-1.43.59L10.3 9.45l-7.72 7.72c-.78.78-.78 2.05 0 2.83L4 21.41c.39.39.9.59 1.41.59.51 0 1.02-.2 1.41-.59l7.78-7.78 2.81-2.81c.8-.78.8-2.07 0-2.86zM5.41 20L4 18.59l7.72-7.72 1.47 1.35L5.41 20z\"/>\n",
              "  </svg>\n",
              "      </button>\n",
              "      \n",
              "  <style>\n",
              "    .colab-df-container {\n",
              "      display:flex;\n",
              "      flex-wrap:wrap;\n",
              "      gap: 12px;\n",
              "    }\n",
              "\n",
              "    .colab-df-convert {\n",
              "      background-color: #E8F0FE;\n",
              "      border: none;\n",
              "      border-radius: 50%;\n",
              "      cursor: pointer;\n",
              "      display: none;\n",
              "      fill: #1967D2;\n",
              "      height: 32px;\n",
              "      padding: 0 0 0 0;\n",
              "      width: 32px;\n",
              "    }\n",
              "\n",
              "    .colab-df-convert:hover {\n",
              "      background-color: #E2EBFA;\n",
              "      box-shadow: 0px 1px 2px rgba(60, 64, 67, 0.3), 0px 1px 3px 1px rgba(60, 64, 67, 0.15);\n",
              "      fill: #174EA6;\n",
              "    }\n",
              "\n",
              "    [theme=dark] .colab-df-convert {\n",
              "      background-color: #3B4455;\n",
              "      fill: #D2E3FC;\n",
              "    }\n",
              "\n",
              "    [theme=dark] .colab-df-convert:hover {\n",
              "      background-color: #434B5C;\n",
              "      box-shadow: 0px 1px 3px 1px rgba(0, 0, 0, 0.15);\n",
              "      filter: drop-shadow(0px 1px 2px rgba(0, 0, 0, 0.3));\n",
              "      fill: #FFFFFF;\n",
              "    }\n",
              "  </style>\n",
              "\n",
              "      <script>\n",
              "        const buttonEl =\n",
              "          document.querySelector('#df-b156b9df-8de3-461a-8195-48db557d671b button.colab-df-convert');\n",
              "        buttonEl.style.display =\n",
              "          google.colab.kernel.accessAllowed ? 'block' : 'none';\n",
              "\n",
              "        async function convertToInteractive(key) {\n",
              "          const element = document.querySelector('#df-b156b9df-8de3-461a-8195-48db557d671b');\n",
              "          const dataTable =\n",
              "            await google.colab.kernel.invokeFunction('convertToInteractive',\n",
              "                                                     [key], {});\n",
              "          if (!dataTable) return;\n",
              "\n",
              "          const docLinkHtml = 'Like what you see? Visit the ' +\n",
              "            '<a target=\"_blank\" href=https://colab.research.google.com/notebooks/data_table.ipynb>data table notebook</a>'\n",
              "            + ' to learn more about interactive tables.';\n",
              "          element.innerHTML = '';\n",
              "          dataTable['output_type'] = 'display_data';\n",
              "          await google.colab.output.renderOutput(dataTable, element);\n",
              "          const docLink = document.createElement('div');\n",
              "          docLink.innerHTML = docLinkHtml;\n",
              "          element.appendChild(docLink);\n",
              "        }\n",
              "      </script>\n",
              "    </div>\n",
              "  </div>\n",
              "  "
            ]
          },
          "metadata": {},
          "execution_count": 3
        }
      ],
      "source": [
        "heart_disease.head()"
      ]
    },
    {
      "cell_type": "code",
      "execution_count": null,
      "metadata": {
        "id": "xpRWmtGrlzEZ",
        "colab": {
          "base_uri": "https://localhost:8080/"
        },
        "outputId": "ab483b49-311e-4fc5-f162-efeac536be99"
      },
      "outputs": [
        {
          "output_type": "execute_result",
          "data": {
            "text/plain": [
              "(319795, 18)"
            ]
          },
          "metadata": {},
          "execution_count": 4
        }
      ],
      "source": [
        "heart_disease.shape"
      ]
    },
    {
      "cell_type": "code",
      "execution_count": null,
      "metadata": {
        "id": "jm0bKRQUl5Jk",
        "colab": {
          "base_uri": "https://localhost:8080/"
        },
        "outputId": "bbeaa40a-490d-4357-f977-d7c7f42f8d0e"
      },
      "outputs": [
        {
          "output_type": "stream",
          "name": "stdout",
          "text": [
            "<class 'pandas.core.frame.DataFrame'>\n",
            "RangeIndex: 319795 entries, 0 to 319794\n",
            "Data columns (total 18 columns):\n",
            " #   Column            Non-Null Count   Dtype  \n",
            "---  ------            --------------   -----  \n",
            " 0   HeartDisease      319795 non-null  object \n",
            " 1   BMI               319795 non-null  float64\n",
            " 2   Smoking           319795 non-null  object \n",
            " 3   AlcoholDrinking   319795 non-null  object \n",
            " 4   Stroke            319795 non-null  object \n",
            " 5   PhysicalHealth    319795 non-null  float64\n",
            " 6   MentalHealth      319795 non-null  float64\n",
            " 7   DiffWalking       319795 non-null  object \n",
            " 8   Sex               319795 non-null  object \n",
            " 9   AgeCategory       319795 non-null  object \n",
            " 10  Race              319795 non-null  object \n",
            " 11  Diabetic          319795 non-null  object \n",
            " 12  PhysicalActivity  319795 non-null  object \n",
            " 13  GenHealth         319795 non-null  object \n",
            " 14  SleepTime         319795 non-null  float64\n",
            " 15  Asthma            319795 non-null  object \n",
            " 16  KidneyDisease     319795 non-null  object \n",
            " 17  SkinCancer        319795 non-null  object \n",
            "dtypes: float64(4), object(14)\n",
            "memory usage: 43.9+ MB\n"
          ]
        }
      ],
      "source": [
        "heart_disease.info()"
      ]
    },
    {
      "cell_type": "code",
      "source": [
        "heart_disease.isnull().sum()"
      ],
      "metadata": {
        "id": "NZfXz2p5w-sK",
        "colab": {
          "base_uri": "https://localhost:8080/"
        },
        "outputId": "125e9372-8b05-4a85-c7e6-5fbc90c62c0e"
      },
      "execution_count": null,
      "outputs": [
        {
          "output_type": "execute_result",
          "data": {
            "text/plain": [
              "HeartDisease        0\n",
              "BMI                 0\n",
              "Smoking             0\n",
              "AlcoholDrinking     0\n",
              "Stroke              0\n",
              "PhysicalHealth      0\n",
              "MentalHealth        0\n",
              "DiffWalking         0\n",
              "Sex                 0\n",
              "AgeCategory         0\n",
              "Race                0\n",
              "Diabetic            0\n",
              "PhysicalActivity    0\n",
              "GenHealth           0\n",
              "SleepTime           0\n",
              "Asthma              0\n",
              "KidneyDisease       0\n",
              "SkinCancer          0\n",
              "dtype: int64"
            ]
          },
          "metadata": {},
          "execution_count": 6
        }
      ]
    },
    {
      "cell_type": "code",
      "execution_count": null,
      "metadata": {
        "id": "2Ir_dPgB_eIo",
        "colab": {
          "base_uri": "https://localhost:8080/"
        },
        "outputId": "1942b8ad-4916-46ec-c547-3e669c44dc91"
      },
      "outputs": [
        {
          "output_type": "execute_result",
          "data": {
            "text/plain": [
              "No     292422\n",
              "Yes     27373\n",
              "Name: HeartDisease, dtype: int64"
            ]
          },
          "metadata": {},
          "execution_count": 7
        }
      ],
      "source": [
        "heart_disease['HeartDisease'].value_counts()"
      ]
    },
    {
      "cell_type": "code",
      "execution_count": null,
      "metadata": {
        "id": "a-lEfuW8ueBb",
        "colab": {
          "base_uri": "https://localhost:8080/",
          "height": 287
        },
        "outputId": "278d3c98-b853-43d4-cf98-8d652b8f64bb"
      },
      "outputs": [
        {
          "output_type": "display_data",
          "data": {
            "text/plain": [
              "<Figure size 432x288 with 1 Axes>"
            ],
            "image/png": "[encoded data removed]"
          },
          "metadata": {
            "needs_background": "light"
          }
        }
      ],
      "source": [
        "heart_disease['HeartDisease'].value_counts().plot(kind='bar')\n",
        "plt.title('Bar Plot - Heart Disease (Imbalanced)')\n",
        "plt.show()"
      ]
    },
    {
      "cell_type": "code",
      "execution_count": null,
      "metadata": {
        "id": "-rxa09ON1u7z"
      },
      "outputs": [],
      "source": [
        "# Balance Dataset\n",
        "sample_size = 7500 # Make dataset smaller and more manageable\n",
        "\n",
        "# Source: https://stackoverflow.com/questions/41858827/selecting-n-elements-of-each-class\n",
        "heart_disease = heart_disease.groupby('HeartDisease', as_index=False).apply(lambda array: array.loc[np.random.choice(array.index, sample_size, False),:])"
      ]
    },
    {
      "cell_type": "code",
      "execution_count": null,
      "metadata": {
        "id": "gDcab_ajAMH_",
        "colab": {
          "base_uri": "https://localhost:8080/",
          "height": 287
        },
        "outputId": "e841a9fd-5b6e-4ed3-d18b-739e336cd40a"
      },
      "outputs": [
        {
          "output_type": "display_data",
          "data": {
            "text/plain": [
              "<Figure size 432x288 with 1 Axes>"
            ],
            "image/png": "[encoded data removed]"
          },
          "metadata": {
            "needs_background": "light"
          }
        }
      ],
      "source": [
        "heart_disease['HeartDisease'].value_counts().plot(kind='bar')\n",
        "plt.title('Bar Plot - Heart Disease (Balanced)')\n",
        "plt.show()"
      ]
    },
    {
      "cell_type": "code",
      "execution_count": null,
      "metadata": {
        "id": "wyw6n3BmNAF-"
      },
      "outputs": [],
      "source": [
        "# Drop DiffWalking (have physical activity instead), GenHealth (have physical and mental instead), KidneyDisease, SkinCancer, Asthma, Race\n",
        "\n",
        "#heart_disease.drop(['DiffWalking'], axis = 1, inplace=True)\n",
        "#heart_disease"
      ]
    },
    {
      "cell_type": "code",
      "execution_count": null,
      "metadata": {
        "id": "FuSZV_jplphw",
        "colab": {
          "base_uri": "https://localhost:8080/",
          "height": 264
        },
        "outputId": "56c46daa-cd49-4df1-ac77-cfc149afcc90"
      },
      "outputs": [
        {
          "output_type": "display_data",
          "data": {
            "text/plain": [
              "<Figure size 432x288 with 1 Axes>"
            ],
            "image/png": "[encoded data removed]"
          },
          "metadata": {}
        }
      ],
      "source": [
        "heart_disease['Diabetic'].value_counts().plot.pie(title = 'Pie Chart - Diabetic Proportions')\n",
        "plt.show()"
      ]
    },
    {
      "cell_type": "code",
      "source": [
        "sns.FacetGrid(heart_disease, hue='HeartDisease', palette='husl', size=6).map(sns.kdeplot, 'BMI').add_legend().set(title='KDE Plot - BMI vs density')"
      ],
      "metadata": {
        "id": "7sCrMqIdgJbE",
        "colab": {
          "base_uri": "https://localhost:8080/",
          "height": 529
        },
        "outputId": "444124ff-d261-4cc7-a344-fc60c98e6bbf"
      },
      "execution_count": null,
      "outputs": [
        {
          "output_type": "stream",
          "name": "stderr",
          "text": [
            "/usr/local/lib/python3.7/dist-packages/seaborn/axisgrid.py:337: UserWarning: The `size` parameter has been renamed to `height`; please update your code.\n",
            "  warnings.warn(msg, UserWarning)\n"
          ]
        },
        {
          "output_type": "execute_result",
          "data": {
            "text/plain": [
              "<seaborn.axisgrid.FacetGrid at 0x7fcbf8e84e90>"
            ]
          },
          "metadata": {},
          "execution_count": 13
        },
        {
          "output_type": "display_data",
          "data": {
            "text/plain": [
              "<Figure size 507.25x432 with 1 Axes>"
            ],
            "image/png": "[encoded data removed]"
          },
          "metadata": {
            "needs_background": "light"
          }
        }
      ]
    },
    {
      "cell_type": "code",
      "execution_count": null,
      "metadata": {
        "id": "JK0aZLyOoooL",
        "colab": {
          "base_uri": "https://localhost:8080/",
          "height": 295
        },
        "outputId": "2db76c52-0f5b-4393-dc33-a950b0b325ad"
      },
      "outputs": [
        {
          "output_type": "display_data",
          "data": {
            "text/plain": [
              "<Figure size 432x288 with 1 Axes>"
            ],
            "image/png": "[encoded data removed]"
          },
          "metadata": {
            "needs_background": "light"
          }
        }
      ],
      "source": [
        "sns.boxplot(x='PhysicalActivity', y='PhysicalHealth', palette='husl', data=heart_disease).set(title='Boxplot - Physical Activity vs Physical Health')\n",
        "plt.show()"
      ]
    },
    {
      "cell_type": "code",
      "source": [
        "sns.countplot(x='PhysicalActivity', data = heart_disease, hue = 'HeartDisease')\n",
        "plt.title('Bar Plot - Physical Activity (separated by Heart Disease)')\n",
        "plt.show()"
      ],
      "metadata": {
        "id": "Ue4kBAsgExZI",
        "colab": {
          "base_uri": "https://localhost:8080/",
          "height": 295
        },
        "outputId": "acf7409a-0956-458b-9db2-e089b7f567f3"
      },
      "execution_count": null,
      "outputs": [
        {
          "output_type": "display_data",
          "data": {
            "text/plain": [
              "<Figure size 432x288 with 1 Axes>"
            ],
            "image/png": "[encoded data removed]"
          },
          "metadata": {
            "needs_background": "light"
          }
        }
      ]
    },
    {
      "cell_type": "code",
      "source": [
        "# Hot Encoding Function\n",
        "\n",
        "def hot_encode(col_name):\n",
        "  heart_disease[col_name] = pd.get_dummies(heart_disease[col_name], drop_first = True)"
      ],
      "metadata": {
        "id": "jcbcEe73V0sn"
      },
      "execution_count": null,
      "outputs": []
    },
    {
      "cell_type": "code",
      "source": [
        "# Hot Encoding Columnns with categorical binary data\n",
        "\n",
        "hot_encode('HeartDisease')\n",
        "hot_encode('DiffWalking')\n",
        "hot_encode('Smoking')\n",
        "hot_encode('AlcoholDrinking')\n",
        "hot_encode('Stroke')\n",
        "hot_encode('Sex')\n",
        "hot_encode('PhysicalActivity')\n",
        "hot_encode('Asthma')\n",
        "hot_encode('SkinCancer')\n",
        "hot_encode('KidneyDisease')"
      ],
      "metadata": {
        "id": "h565x7ySWE2q"
      },
      "execution_count": null,
      "outputs": []
    },
    {
      "cell_type": "code",
      "source": [
        "# Helper Function - Function to make single item lists into single elements\n",
        "\n",
        "def fix_list(lst):\n",
        "  newlst = []\n",
        "  for x in lst:\n",
        "    newlst.append(x[0])\n",
        "  return newlst"
      ],
      "metadata": {
        "id": "Gcnp8E5oR0HA"
      },
      "execution_count": null,
      "outputs": []
    },
    {
      "cell_type": "code",
      "source": [
        "# Ordinal Encoding Function\n",
        "# Source: https://medium.com/bycodegarage/encoding-categorical-data-in-machine-learning-def03ccfbf40\n",
        "\n",
        "def ordinal_encode(col_name):\n",
        "  from sklearn.preprocessing import OrdinalEncoder\n",
        "\n",
        "  # Define ordinal encodering\n",
        "  encoder = OrdinalEncoder()\n",
        "\n",
        "  # Transform data\n",
        "  col_encoding = encoder.fit_transform(heart_disease[[col_name]]) # numpy array\n",
        "  col_encoding = col_encoding.tolist() # now have list of lists (single element)\n",
        "  # Make list of single elements\n",
        "  col_encoding = fix_list(col_encoding)\n",
        "\n",
        "  # Replace original column\n",
        "  heart_disease[col_name] = col_encoding"
      ],
      "metadata": {
        "id": "UpZmy1NGVyYy"
      },
      "execution_count": null,
      "outputs": []
    },
    {
      "cell_type": "code",
      "source": [
        "# Hot Encoding Columnns with categorical multinominal data\n",
        "\n",
        "ordinal_encode('AgeCategory')\n",
        "ordinal_encode('Race')\n",
        "ordinal_encode('Diabetic')\n",
        "ordinal_encode('GenHealth')"
      ],
      "metadata": {
        "id": "chgwmT-8WnDe"
      },
      "execution_count": null,
      "outputs": []
    },
    {
      "cell_type": "code",
      "source": [
        "heart_disease.head()"
      ],
      "metadata": {
        "id": "Pd0oq0-PW-e-",
        "colab": {
          "base_uri": "https://localhost:8080/",
          "height": 270
        },
        "outputId": "00979ff2-94fc-435c-8035-f5a502c2300f"
      },
      "execution_count": null,
      "outputs": [
        {
          "output_type": "execute_result",
          "data": {
            "text/plain": [
              "          HeartDisease    BMI  Smoking  AlcoholDrinking  Stroke  \\\n",
              "0 305189             0  24.80        0                0       0   \n",
              "  197462             0  25.02        1                1       1   \n",
              "  131383             0  46.17        0                0       0   \n",
              "  143479             0  29.69        0                0       0   \n",
              "  235187             0  27.28        1                0       0   \n",
              "\n",
              "          PhysicalHealth  MentalHealth  DiffWalking  Sex  AgeCategory  Race  \\\n",
              "0 305189             0.0           0.0            0    0          0.0   5.0   \n",
              "  197462             0.0           2.0            0    1         12.0   5.0   \n",
              "  131383             0.0           0.0            0    0          9.0   5.0   \n",
              "  143479             0.0           0.0            1    0         12.0   5.0   \n",
              "  235187             0.0           3.0            0    0         10.0   5.0   \n",
              "\n",
              "          Diabetic  PhysicalActivity  GenHealth  SleepTime  Asthma  \\\n",
              "0 305189       0.0                 1        0.0        8.0       0   \n",
              "  197462       0.0                 1        0.0        8.0       0   \n",
              "  131383       0.0                 0        4.0        9.0       0   \n",
              "  143479       2.0                 0        2.0        8.0       0   \n",
              "  235187       0.0                 1        4.0        8.0       0   \n",
              "\n",
              "          KidneyDisease  SkinCancer  \n",
              "0 305189              0           0  \n",
              "  197462              1           0  \n",
              "  131383              1           0  \n",
              "  143479              1           0  \n",
              "  235187              0           0  "
            ],
            "text/html": [
              "\n",
              "  <div id=\"df-a19789b9-ae46-460a-aa6c-190c15809421\">\n",
              "    <div class=\"colab-df-container\">\n",
              "      <div>\n",
              "<style scoped>\n",
              "    .dataframe tbody tr th:only-of-type {\n",
              "        vertical-align: middle;\n",
              "    }\n",
              "\n",
              "    .dataframe tbody tr th {\n",
              "        vertical-align: top;\n",
              "    }\n",
              "\n",
              "    .dataframe thead th {\n",
              "        text-align: right;\n",
              "    }\n",
              "</style>\n",
              "<table border=\"1\" class=\"dataframe\">\n",
              "  <thead>\n",
              "    <tr style=\"text-align: right;\">\n",
              "      <th></th>\n",
              "      <th></th>\n",
              "      <th>HeartDisease</th>\n",
              "      <th>BMI</th>\n",
              "      <th>Smoking</th>\n",
              "      <th>AlcoholDrinking</th>\n",
              "      <th>Stroke</th>\n",
              "      <th>PhysicalHealth</th>\n",
              "      <th>MentalHealth</th>\n",
              "      <th>DiffWalking</th>\n",
              "      <th>Sex</th>\n",
              "      <th>AgeCategory</th>\n",
              "      <th>Race</th>\n",
              "      <th>Diabetic</th>\n",
              "      <th>PhysicalActivity</th>\n",
              "      <th>GenHealth</th>\n",
              "      <th>SleepTime</th>\n",
              "      <th>Asthma</th>\n",
              "      <th>KidneyDisease</th>\n",
              "      <th>SkinCancer</th>\n",
              "    </tr>\n",
              "  </thead>\n",
              "  <tbody>\n",
              "    <tr>\n",
              "      <th rowspan=\"5\" valign=\"top\">0</th>\n",
              "      <th>305189</th>\n",
              "      <td>0</td>\n",
              "      <td>24.80</td>\n",
              "      <td>0</td>\n",
              "      <td>0</td>\n",
              "      <td>0</td>\n",
              "      <td>0.0</td>\n",
              "      <td>0.0</td>\n",
              "      <td>0</td>\n",
              "      <td>0</td>\n",
              "      <td>0.0</td>\n",
              "      <td>5.0</td>\n",
              "      <td>0.0</td>\n",
              "      <td>1</td>\n",
              "      <td>0.0</td>\n",
              "      <td>8.0</td>\n",
              "      <td>0</td>\n",
              "      <td>0</td>\n",
              "      <td>0</td>\n",
              "    </tr>\n",
              "    <tr>\n",
              "      <th>197462</th>\n",
              "      <td>0</td>\n",
              "      <td>25.02</td>\n",
              "      <td>1</td>\n",
              "      <td>1</td>\n",
              "      <td>1</td>\n",
              "      <td>0.0</td>\n",
              "      <td>2.0</td>\n",
              "      <td>0</td>\n",
              "      <td>1</td>\n",
              "      <td>12.0</td>\n",
              "      <td>5.0</td>\n",
              "      <td>0.0</td>\n",
              "      <td>1</td>\n",
              "      <td>0.0</td>\n",
              "      <td>8.0</td>\n",
              "      <td>0</td>\n",
              "      <td>1</td>\n",
              "      <td>0</td>\n",
              "    </tr>\n",
              "    <tr>\n",
              "      <th>131383</th>\n",
              "      <td>0</td>\n",
              "      <td>46.17</td>\n",
              "      <td>0</td>\n",
              "      <td>0</td>\n",
              "      <td>0</td>\n",
              "      <td>0.0</td>\n",
              "      <td>0.0</td>\n",
              "      <td>0</td>\n",
              "      <td>0</td>\n",
              "      <td>9.0</td>\n",
              "      <td>5.0</td>\n",
              "      <td>0.0</td>\n",
              "      <td>0</td>\n",
              "      <td>4.0</td>\n",
              "      <td>9.0</td>\n",
              "      <td>0</td>\n",
              "      <td>1</td>\n",
              "      <td>0</td>\n",
              "    </tr>\n",
              "    <tr>\n",
              "      <th>143479</th>\n",
              "      <td>0</td>\n",
              "      <td>29.69</td>\n",
              "      <td>0</td>\n",
              "      <td>0</td>\n",
              "      <td>0</td>\n",
              "      <td>0.0</td>\n",
              "      <td>0.0</td>\n",
              "      <td>1</td>\n",
              "      <td>0</td>\n",
              "      <td>12.0</td>\n",
              "      <td>5.0</td>\n",
              "      <td>2.0</td>\n",
              "      <td>0</td>\n",
              "      <td>2.0</td>\n",
              "      <td>8.0</td>\n",
              "      <td>0</td>\n",
              "      <td>1</td>\n",
              "      <td>0</td>\n",
              "    </tr>\n",
              "    <tr>\n",
              "      <th>235187</th>\n",
              "      <td>0</td>\n",
              "      <td>27.28</td>\n",
              "      <td>1</td>\n",
              "      <td>0</td>\n",
              "      <td>0</td>\n",
              "      <td>0.0</td>\n",
              "      <td>3.0</td>\n",
              "      <td>0</td>\n",
              "      <td>0</td>\n",
              "      <td>10.0</td>\n",
              "      <td>5.0</td>\n",
              "      <td>0.0</td>\n",
              "      <td>1</td>\n",
              "      <td>4.0</td>\n",
              "      <td>8.0</td>\n",
              "      <td>0</td>\n",
              "      <td>0</td>\n",
              "      <td>0</td>\n",
              "    </tr>\n",
              "  </tbody>\n",
              "</table>\n",
              "</div>\n",
              "      <button class=\"colab-df-convert\" onclick=\"convertToInteractive('df-a19789b9-ae46-460a-aa6c-190c15809421')\"\n",
              "              title=\"Convert this dataframe to an interactive table.\"\n",
              "              style=\"display:none;\">\n",
              "        \n",
              "  <svg xmlns=\"http://www.w3.org/2000/svg\" height=\"24px\"viewBox=\"0 0 24 24\"\n",
              "       width=\"24px\">\n",
              "    <path d=\"M0 0h24v24H0V0z\" fill=\"none\"/>\n",
              "    <path d=\"M18.56 5.44l.94 2.06.94-2.06 2.06-.94-2.06-.94-.94-2.06-.94 2.06-2.06.94zm-11 1L8.5 8.5l.94-2.06 2.06-.94-2.06-.94L8.5 2.5l-.94 2.06-2.06.94zm10 10l.94 2.06.94-2.06 2.06-.94-2.06-.94-.94-2.06-.94 2.06-2.06.94z\"/><path d=\"M17.41 7.96l-1.37-1.37c-.4-.4-.92-.59-1.43-.59-.52 0-1.04.2-1.43.59L10.3 9.45l-7.72 7.72c-.78.78-.78 2.05 0 2.83L4 21.41c.39.39.9.59 1.41.59.51 0 1.02-.2 1.41-.59l7.78-7.78 2.81-2.81c.8-.78.8-2.07 0-2.86zM5.41 20L4 18.59l7.72-7.72 1.47 1.35L5.41 20z\"/>\n",
              "  </svg>\n",
              "      </button>\n",
              "      \n",
              "  <style>\n",
              "    .colab-df-container {\n",
              "      display:flex;\n",
              "      flex-wrap:wrap;\n",
              "      gap: 12px;\n",
              "    }\n",
              "\n",
              "    .colab-df-convert {\n",
              "      background-color: #E8F0FE;\n",
              "      border: none;\n",
              "      border-radius: 50%;\n",
              "      cursor: pointer;\n",
              "      display: none;\n",
              "      fill: #1967D2;\n",
              "      height: 32px;\n",
              "      padding: 0 0 0 0;\n",
              "      width: 32px;\n",
              "    }\n",
              "\n",
              "    .colab-df-convert:hover {\n",
              "      background-color: #E2EBFA;\n",
              "      box-shadow: 0px 1px 2px rgba(60, 64, 67, 0.3), 0px 1px 3px 1px rgba(60, 64, 67, 0.15);\n",
              "      fill: #174EA6;\n",
              "    }\n",
              "\n",
              "    [theme=dark] .colab-df-convert {\n",
              "      background-color: #3B4455;\n",
              "      fill: #D2E3FC;\n",
              "    }\n",
              "\n",
              "    [theme=dark] .colab-df-convert:hover {\n",
              "      background-color: #434B5C;\n",
              "      box-shadow: 0px 1px 3px 1px rgba(0, 0, 0, 0.15);\n",
              "      filter: drop-shadow(0px 1px 2px rgba(0, 0, 0, 0.3));\n",
              "      fill: #FFFFFF;\n",
              "    }\n",
              "  </style>\n",
              "\n",
              "      <script>\n",
              "        const buttonEl =\n",
              "          document.querySelector('#df-a19789b9-ae46-460a-aa6c-190c15809421 button.colab-df-convert');\n",
              "        buttonEl.style.display =\n",
              "          google.colab.kernel.accessAllowed ? 'block' : 'none';\n",
              "\n",
              "        async function convertToInteractive(key) {\n",
              "          const element = document.querySelector('#df-a19789b9-ae46-460a-aa6c-190c15809421');\n",
              "          const dataTable =\n",
              "            await google.colab.kernel.invokeFunction('convertToInteractive',\n",
              "                                                     [key], {});\n",
              "          if (!dataTable) return;\n",
              "\n",
              "          const docLinkHtml = 'Like what you see? Visit the ' +\n",
              "            '<a target=\"_blank\" href=https://colab.research.google.com/notebooks/data_table.ipynb>data table notebook</a>'\n",
              "            + ' to learn more about interactive tables.';\n",
              "          element.innerHTML = '';\n",
              "          dataTable['output_type'] = 'display_data';\n",
              "          await google.colab.output.renderOutput(dataTable, element);\n",
              "          const docLink = document.createElement('div');\n",
              "          docLink.innerHTML = docLinkHtml;\n",
              "          element.appendChild(docLink);\n",
              "        }\n",
              "      </script>\n",
              "    </div>\n",
              "  </div>\n",
              "  "
            ]
          },
          "metadata": {},
          "execution_count": 21
        }
      ]
    },
    {
      "cell_type": "code",
      "execution_count": null,
      "metadata": {
        "id": "6P3GAGXVmCQl",
        "colab": {
          "base_uri": "https://localhost:8080/",
          "height": 350
        },
        "outputId": "be212842-ea8d-4eeb-9816-eefe8509d566"
      },
      "outputs": [
        {
          "output_type": "display_data",
          "data": {
            "text/plain": [
              "<Figure size 432x288 with 2 Axes>"
            ],
            "image/png": "[encoded data removed]"
          },
          "metadata": {
            "needs_background": "light"
          }
        }
      ],
      "source": [
        "sns.heatmap(heart_disease.corr())\n",
        "plt.title('Correlation Matrix')\n",
        "plt.show()"
      ]
    },
    {
      "cell_type": "code",
      "execution_count": null,
      "metadata": {
        "id": "xQZ6D6QsuIPP"
      },
      "outputs": [],
      "source": [
        "# Splitting dataset into features and targets\n",
        "\n",
        "X = heart_disease.drop(['HeartDisease'], axis = 1).values\n",
        "y = heart_disease['HeartDisease'].values"
      ]
    },
    {
      "cell_type": "code",
      "execution_count": null,
      "metadata": {
        "id": "O80wwzaduUfG"
      },
      "outputs": [],
      "source": [
        "# Splitting data into training and tests\n",
        "\n",
        "from sklearn.model_selection import train_test_split\n",
        "X_train, X_test, y_train, y_test = train_test_split(X, y, test_size = 0.30, random_state = 1)"
      ]
    },
    {
      "cell_type": "code",
      "execution_count": null,
      "metadata": {
        "id": "9Pev4C_IusbR"
      },
      "outputs": [],
      "source": [
        "# Feature Processing - Standardization\n",
        "\n",
        "from sklearn.preprocessing import StandardScaler\n",
        "\n",
        "sc = StandardScaler()\n",
        "X_train = sc.fit_transform(X_train)\n",
        "X_test = sc.transform(X_test)"
      ]
    },
    {
      "cell_type": "code",
      "execution_count": null,
      "metadata": {
        "id": "XaVNNzbNU5ZJ"
      },
      "outputs": [],
      "source": [
        "# Initialize lists for Classification Metrics Graph\n",
        "\n",
        "cv_accuracy = []\n",
        "accuracy_scores = []\n",
        "f1_scores = []\n",
        "precision_scores = []\n",
        "recall_scores = []"
      ]
    },
    {
      "cell_type": "code",
      "execution_count": null,
      "metadata": {
        "id": "4UKWTnesTR1E"
      },
      "outputs": [],
      "source": [
        "# Model Function\n",
        "\n",
        "def build_model(model):\n",
        "\n",
        "  # Fitting model to training dataset\n",
        "  model.fit(X_train, y_train.ravel())\n",
        "\n",
        "  # 5-Fold Cross Validation\n",
        "  from sklearn.model_selection import KFold\n",
        "  from sklearn.model_selection import cross_val_score\n",
        "\n",
        "  k = 5\n",
        "  kf = KFold(n_splits=k)\n",
        "\n",
        "  result = cross_val_score(model, X_train, y_train.ravel(), cv = kf, scoring='accuracy')\n",
        "  print(f'5-Fold CV Avg accuracy:{result.mean()}', end ='\\n \\n')\n",
        "\n",
        "  cv_accuracy.append(result.mean())\n",
        "\n",
        "  # Predicting test set results\n",
        "  y_pred = model.predict(X_test)\n",
        "\n",
        "  # Classification Report\n",
        "  from sklearn.metrics import classification_report\n",
        "\n",
        "  print(classification_report(y_test, y_pred, target_names = ['Does Not Have Heart Disease', 'Has Heart Disease']))\n",
        "\n",
        "  # Store accuracy, f1, precision, and recall in lists\n",
        "  class_report = classification_report(y_test, y_pred, output_dict = True)\n",
        "  accuracy_scores.append(class_report['accuracy'])\n",
        "  f1_scores.append(class_report['weighted avg']['f1-score'])\n",
        "  precision_scores.append(class_report['weighted avg']['precision'])\n",
        "  recall_scores.append(class_report['weighted avg']['recall'])\n",
        "  class_report"
      ]
    },
    {
      "cell_type": "code",
      "execution_count": null,
      "metadata": {
        "id": "-hpt5CDZu0k7",
        "colab": {
          "base_uri": "https://localhost:8080/"
        },
        "outputId": "9054544f-14da-47b8-daae-1df7062d262a"
      },
      "outputs": [
        {
          "output_type": "stream",
          "name": "stdout",
          "text": [
            "KNN:\n",
            " \n",
            "5-Fold CV Avg accuracy:0.7246666666666666\n",
            " \n",
            "                             precision    recall  f1-score   support\n",
            "\n",
            "Does Not Have Heart Disease       0.71      0.75      0.73      2235\n",
            "          Has Heart Disease       0.74      0.70      0.72      2265\n",
            "\n",
            "                   accuracy                           0.73      4500\n",
            "                  macro avg       0.73      0.73      0.73      4500\n",
            "               weighted avg       0.73      0.73      0.73      4500\n",
            "\n"
          ]
        }
      ],
      "source": [
        "# Building KNN Model\n",
        "\n",
        "print('KNN:', end ='\\n \\n')\n",
        "\n",
        "from sklearn.neighbors import KNeighborsClassifier\n",
        "\n",
        "knn = KNeighborsClassifier(n_neighbors=10)\n",
        "build_model(knn)"
      ]
    },
    {
      "cell_type": "code",
      "execution_count": null,
      "metadata": {
        "id": "fNvcsiITu8gf",
        "colab": {
          "base_uri": "https://localhost:8080/"
        },
        "outputId": "2c73f1a5-1592-430d-ef7a-a16c557b3523"
      },
      "outputs": [
        {
          "output_type": "stream",
          "name": "stdout",
          "text": [
            "BNB:\n",
            " \n",
            "5-Fold CV Avg accuracy:0.7279047619047618\n",
            " \n",
            "                             precision    recall  f1-score   support\n",
            "\n",
            "Does Not Have Heart Disease       0.70      0.77      0.73      2235\n",
            "          Has Heart Disease       0.75      0.68      0.71      2265\n",
            "\n",
            "                   accuracy                           0.72      4500\n",
            "                  macro avg       0.72      0.72      0.72      4500\n",
            "               weighted avg       0.72      0.72      0.72      4500\n",
            "\n"
          ]
        }
      ],
      "source": [
        "# Building Naive Bayes Model\n",
        "\n",
        "print('BNB:', end ='\\n \\n')\n",
        "\n",
        "# Using Bernoulli Naive Bayes since most of the data is binary\n",
        "from sklearn.naive_bayes import BernoulliNB\n",
        "\n",
        "bnb = BernoulliNB()\n",
        "build_model(bnb)"
      ]
    },
    {
      "cell_type": "code",
      "execution_count": null,
      "metadata": {
        "id": "CdLFbixbvINk",
        "colab": {
          "base_uri": "https://localhost:8080/"
        },
        "outputId": "9bbbccef-0b31-4865-f2a7-f2880a267507"
      },
      "outputs": [
        {
          "output_type": "stream",
          "name": "stdout",
          "text": [
            "Log Reg:\n",
            " \n",
            "5-Fold CV Avg accuracy:0.753047619047619\n",
            " \n",
            "                             precision    recall  f1-score   support\n",
            "\n",
            "Does Not Have Heart Disease       0.75      0.75      0.75      2235\n",
            "          Has Heart Disease       0.75      0.76      0.76      2265\n",
            "\n",
            "                   accuracy                           0.75      4500\n",
            "                  macro avg       0.75      0.75      0.75      4500\n",
            "               weighted avg       0.75      0.75      0.75      4500\n",
            "\n"
          ]
        }
      ],
      "source": [
        "# Building Logistic Regression Model\n",
        "\n",
        "print('Log Reg:', end ='\\n \\n')\n",
        "\n",
        "from sklearn.linear_model import LogisticRegression\n",
        "\n",
        "lr = LogisticRegression()\n",
        "build_model(lr)"
      ]
    },
    {
      "cell_type": "code",
      "execution_count": null,
      "metadata": {
        "id": "7aoUAZMHXE22",
        "colab": {
          "base_uri": "https://localhost:8080/"
        },
        "outputId": "79aaa138-8c94-4a34-acfe-44a8faf5bc60"
      },
      "outputs": [
        {
          "output_type": "stream",
          "name": "stdout",
          "text": [
            "Linear SVM:\n",
            " \n",
            "5-Fold CV Avg accuracy:0.7544761904761905\n",
            " \n",
            "                             precision    recall  f1-score   support\n",
            "\n",
            "Does Not Have Heart Disease       0.76      0.73      0.75      2235\n",
            "          Has Heart Disease       0.75      0.77      0.76      2265\n",
            "\n",
            "                   accuracy                           0.75      4500\n",
            "                  macro avg       0.75      0.75      0.75      4500\n",
            "               weighted avg       0.75      0.75      0.75      4500\n",
            "\n"
          ]
        }
      ],
      "source": [
        "# Building SVM Linear Model\n",
        "\n",
        "print('Linear SVM:', end ='\\n \\n')\n",
        "\n",
        "from sklearn import svm\n",
        "\n",
        "linear_svm = svm.SVC(kernel='linear', decision_function_shape='ovo')\n",
        "build_model(linear_svm)"
      ]
    },
    {
      "cell_type": "code",
      "execution_count": null,
      "metadata": {
        "id": "TVmNEHZUXY0r",
        "colab": {
          "base_uri": "https://localhost:8080/"
        },
        "outputId": "9a246e51-725d-4997-b1da-a6aa0bffa377"
      },
      "outputs": [
        {
          "output_type": "stream",
          "name": "stdout",
          "text": [
            "RBF SVM:\n",
            " \n",
            "5-Fold CV Avg accuracy:0.7566666666666666\n",
            " \n",
            "                             precision    recall  f1-score   support\n",
            "\n",
            "Does Not Have Heart Disease       0.77      0.72      0.75      2235\n",
            "          Has Heart Disease       0.74      0.79      0.77      2265\n",
            "\n",
            "                   accuracy                           0.76      4500\n",
            "                  macro avg       0.76      0.76      0.76      4500\n",
            "               weighted avg       0.76      0.76      0.76      4500\n",
            "\n"
          ]
        }
      ],
      "source": [
        "# Building SVM RBF Model\n",
        "\n",
        "print('RBF SVM:', end ='\\n \\n')\n",
        "\n",
        "rbf_svm = svm.SVC(kernel='rbf', decision_function_shape='ovo')\n",
        "build_model(rbf_svm)"
      ]
    },
    {
      "cell_type": "code",
      "execution_count": null,
      "metadata": {
        "id": "qOGYZJDYZ5h7",
        "colab": {
          "base_uri": "https://localhost:8080/"
        },
        "outputId": "9cf27c38-0615-44d1-b298-1465bd291942"
      },
      "outputs": [
        {
          "output_type": "stream",
          "name": "stdout",
          "text": [
            "Polynomial SVM:\n",
            " \n",
            "5-Fold CV Avg accuracy:0.7443809523809524\n",
            " \n",
            "                             precision    recall  f1-score   support\n",
            "\n",
            "Does Not Have Heart Disease       0.74      0.75      0.75      2235\n",
            "          Has Heart Disease       0.75      0.74      0.74      2265\n",
            "\n",
            "                   accuracy                           0.75      4500\n",
            "                  macro avg       0.75      0.75      0.75      4500\n",
            "               weighted avg       0.75      0.75      0.75      4500\n",
            "\n"
          ]
        }
      ],
      "source": [
        "# Building SVM Polynomial Model\n",
        "\n",
        "print('Polynomial SVM:', end ='\\n \\n')\n",
        "\n",
        "poly_svm = svm.SVC(kernel='poly', decision_function_shape='ovo')\n",
        "build_model(poly_svm)"
      ]
    },
    {
      "cell_type": "code",
      "execution_count": null,
      "metadata": {
        "id": "q-gvHbzNXgmu",
        "colab": {
          "base_uri": "https://localhost:8080/"
        },
        "outputId": "c015590c-4196-4196-e7d7-f31b831dba25"
      },
      "outputs": [
        {
          "output_type": "stream",
          "name": "stdout",
          "text": [
            "Sigmoid SVM:\n",
            " \n",
            "5-Fold CV Avg accuracy:0.6785714285714286\n",
            " \n",
            "                             precision    recall  f1-score   support\n",
            "\n",
            "Does Not Have Heart Disease       0.67      0.68      0.68      2235\n",
            "          Has Heart Disease       0.68      0.67      0.67      2265\n",
            "\n",
            "                   accuracy                           0.67      4500\n",
            "                  macro avg       0.67      0.67      0.67      4500\n",
            "               weighted avg       0.67      0.67      0.67      4500\n",
            "\n"
          ]
        }
      ],
      "source": [
        "# Building SVM Sigmoid Model\n",
        "\n",
        "print('Sigmoid SVM:', end ='\\n \\n')\n",
        "\n",
        "sig_svm = svm.SVC(kernel='sigmoid', decision_function_shape='ovo')\n",
        "build_model(sig_svm)"
      ]
    },
    {
      "cell_type": "code",
      "execution_count": null,
      "metadata": {
        "id": "OaOLNIc9jTxp",
        "colab": {
          "base_uri": "https://localhost:8080/"
        },
        "outputId": "aac5dfd0-b250-4e4f-f3b7-2011b1bdc5a9"
      },
      "outputs": [
        {
          "output_type": "stream",
          "name": "stdout",
          "text": [
            "Fitting 5 folds for each of 60 candidates, totalling 300 fits\n",
            "[CV] END ................C=0.001, gamma=0.001, kernel=linear; total time=   2.4s\n",
            "[CV] END ................C=0.001, gamma=0.001, kernel=linear; total time=   4.0s\n",
            "[CV] END ................C=0.001, gamma=0.001, kernel=linear; total time=   2.4s\n",
            "[CV] END ................C=0.001, gamma=0.001, kernel=linear; total time=   2.5s\n",
            "[CV] END ................C=0.001, gamma=0.001, kernel=linear; total time=   2.5s\n",
            "[CV] END ...................C=0.001, gamma=0.001, kernel=rbf; total time=   6.4s\n",
            "[CV] END ...................C=0.001, gamma=0.001, kernel=rbf; total time=   6.4s\n",
            "[CV] END ...................C=0.001, gamma=0.001, kernel=rbf; total time=   6.3s\n",
            "[CV] END ...................C=0.001, gamma=0.001, kernel=rbf; total time=   6.4s\n",
            "[CV] END ...................C=0.001, gamma=0.001, kernel=rbf; total time=   6.3s\n",
            "[CV] END ..................C=0.001, gamma=0.001, kernel=poly; total time=   4.0s\n",
            "[CV] END ..................C=0.001, gamma=0.001, kernel=poly; total time=   4.0s\n",
            "[CV] END ..................C=0.001, gamma=0.001, kernel=poly; total time=   4.0s\n",
            "[CV] END ..................C=0.001, gamma=0.001, kernel=poly; total time=   4.0s\n",
            "[CV] END ..................C=0.001, gamma=0.001, kernel=poly; total time=   4.0s\n",
            "[CV] END ...............C=0.001, gamma=0.001, kernel=sigmoid; total time=   6.8s\n",
            "[CV] END ...............C=0.001, gamma=0.001, kernel=sigmoid; total time=   6.3s\n",
            "[CV] END ...............C=0.001, gamma=0.001, kernel=sigmoid; total time=   6.1s\n",
            "[CV] END ...............C=0.001, gamma=0.001, kernel=sigmoid; total time=   6.1s\n",
            "[CV] END ...............C=0.001, gamma=0.001, kernel=sigmoid; total time=   6.1s\n",
            "[CV] END .................C=0.001, gamma=0.01, kernel=linear; total time=   2.4s\n",
            "[CV] END .................C=0.001, gamma=0.01, kernel=linear; total time=   2.4s\n",
            "[CV] END .................C=0.001, gamma=0.01, kernel=linear; total time=   2.3s\n",
            "[CV] END .................C=0.001, gamma=0.01, kernel=linear; total time=   2.4s\n",
            "[CV] END .................C=0.001, gamma=0.01, kernel=linear; total time=   2.4s\n",
            "[CV] END ....................C=0.001, gamma=0.01, kernel=rbf; total time=   6.4s\n",
            "[CV] END ....................C=0.001, gamma=0.01, kernel=rbf; total time=   6.4s\n",
            "[CV] END ....................C=0.001, gamma=0.01, kernel=rbf; total time=   6.3s\n",
            "[CV] END ....................C=0.001, gamma=0.01, kernel=rbf; total time=   6.4s\n",
            "[CV] END ....................C=0.001, gamma=0.01, kernel=rbf; total time=   6.4s\n",
            "[CV] END ...................C=0.001, gamma=0.01, kernel=poly; total time=   4.0s\n",
            "[CV] END ...................C=0.001, gamma=0.01, kernel=poly; total time=   3.9s\n",
            "[CV] END ...................C=0.001, gamma=0.01, kernel=poly; total time=   4.0s\n",
            "[CV] END ...................C=0.001, gamma=0.01, kernel=poly; total time=   4.0s\n",
            "[CV] END ...................C=0.001, gamma=0.01, kernel=poly; total time=   4.0s\n",
            "[CV] END ................C=0.001, gamma=0.01, kernel=sigmoid; total time=   6.0s\n",
            "[CV] END ................C=0.001, gamma=0.01, kernel=sigmoid; total time=   6.9s\n",
            "[CV] END ................C=0.001, gamma=0.01, kernel=sigmoid; total time=   6.1s\n",
            "[CV] END ................C=0.001, gamma=0.01, kernel=sigmoid; total time=   6.1s\n",
            "[CV] END ................C=0.001, gamma=0.01, kernel=sigmoid; total time=   6.1s\n",
            "[CV] END ..................C=0.001, gamma=0.1, kernel=linear; total time=   2.4s\n",
            "[CV] END ..................C=0.001, gamma=0.1, kernel=linear; total time=   2.4s\n",
            "[CV] END ..................C=0.001, gamma=0.1, kernel=linear; total time=   2.4s\n",
            "[CV] END ..................C=0.001, gamma=0.1, kernel=linear; total time=   2.5s\n",
            "[CV] END ..................C=0.001, gamma=0.1, kernel=linear; total time=   2.5s\n",
            "[CV] END .....................C=0.001, gamma=0.1, kernel=rbf; total time=   6.4s\n",
            "[CV] END .....................C=0.001, gamma=0.1, kernel=rbf; total time=   6.5s\n",
            "[CV] END .....................C=0.001, gamma=0.1, kernel=rbf; total time=   6.5s\n",
            "[CV] END .....................C=0.001, gamma=0.1, kernel=rbf; total time=   6.4s\n",
            "[CV] END .....................C=0.001, gamma=0.1, kernel=rbf; total time=   6.5s\n",
            "[CV] END ....................C=0.001, gamma=0.1, kernel=poly; total time=   3.6s\n",
            "[CV] END ....................C=0.001, gamma=0.1, kernel=poly; total time=   3.6s\n",
            "[CV] END ....................C=0.001, gamma=0.1, kernel=poly; total time=   3.6s\n",
            "[CV] END ....................C=0.001, gamma=0.1, kernel=poly; total time=   3.6s\n",
            "[CV] END ....................C=0.001, gamma=0.1, kernel=poly; total time=   3.5s\n",
            "[CV] END .................C=0.001, gamma=0.1, kernel=sigmoid; total time=   6.7s\n",
            "[CV] END .................C=0.001, gamma=0.1, kernel=sigmoid; total time=   6.8s\n",
            "[CV] END .................C=0.001, gamma=0.1, kernel=sigmoid; total time=   7.6s\n",
            "[CV] END .................C=0.001, gamma=0.1, kernel=sigmoid; total time=   6.8s\n",
            "[CV] END .................C=0.001, gamma=0.1, kernel=sigmoid; total time=   6.8s\n",
            "[CV] END .................C=0.01, gamma=0.001, kernel=linear; total time=   2.0s\n",
            "[CV] END .................C=0.01, gamma=0.001, kernel=linear; total time=   2.1s\n",
            "[CV] END .................C=0.01, gamma=0.001, kernel=linear; total time=   2.1s\n",
            "[CV] END .................C=0.01, gamma=0.001, kernel=linear; total time=   2.1s\n",
            "[CV] END .................C=0.01, gamma=0.001, kernel=linear; total time=   2.1s\n",
            "[CV] END ....................C=0.01, gamma=0.001, kernel=rbf; total time=   6.3s\n",
            "[CV] END ....................C=0.01, gamma=0.001, kernel=rbf; total time=   6.3s\n",
            "[CV] END ....................C=0.01, gamma=0.001, kernel=rbf; total time=   6.3s\n",
            "[CV] END ....................C=0.01, gamma=0.001, kernel=rbf; total time=   6.3s\n",
            "[CV] END ....................C=0.01, gamma=0.001, kernel=rbf; total time=   6.3s\n",
            "[CV] END ...................C=0.01, gamma=0.001, kernel=poly; total time=   4.0s\n",
            "[CV] END ...................C=0.01, gamma=0.001, kernel=poly; total time=   4.0s\n",
            "[CV] END ...................C=0.01, gamma=0.001, kernel=poly; total time=   3.9s\n",
            "[CV] END ...................C=0.01, gamma=0.001, kernel=poly; total time=   4.0s\n",
            "[CV] END ...................C=0.01, gamma=0.001, kernel=poly; total time=   4.1s\n",
            "[CV] END ................C=0.01, gamma=0.001, kernel=sigmoid; total time=   6.1s\n",
            "[CV] END ................C=0.01, gamma=0.001, kernel=sigmoid; total time=   6.1s\n",
            "[CV] END ................C=0.01, gamma=0.001, kernel=sigmoid; total time=   6.0s\n",
            "[CV] END ................C=0.01, gamma=0.001, kernel=sigmoid; total time=   7.0s\n",
            "[CV] END ................C=0.01, gamma=0.001, kernel=sigmoid; total time=   6.1s\n",
            "[CV] END ..................C=0.01, gamma=0.01, kernel=linear; total time=   2.1s\n",
            "[CV] END ..................C=0.01, gamma=0.01, kernel=linear; total time=   2.1s\n",
            "[CV] END ..................C=0.01, gamma=0.01, kernel=linear; total time=   2.1s\n",
            "[CV] END ..................C=0.01, gamma=0.01, kernel=linear; total time=   2.1s\n",
            "[CV] END ..................C=0.01, gamma=0.01, kernel=linear; total time=   2.1s\n",
            "[CV] END .....................C=0.01, gamma=0.01, kernel=rbf; total time=   5.5s\n",
            "[CV] END .....................C=0.01, gamma=0.01, kernel=rbf; total time=   5.5s\n",
            "[CV] END .....................C=0.01, gamma=0.01, kernel=rbf; total time=   5.5s\n",
            "[CV] END .....................C=0.01, gamma=0.01, kernel=rbf; total time=   5.5s\n",
            "[CV] END .....................C=0.01, gamma=0.01, kernel=rbf; total time=   5.5s\n",
            "[CV] END ....................C=0.01, gamma=0.01, kernel=poly; total time=   4.0s\n",
            "[CV] END ....................C=0.01, gamma=0.01, kernel=poly; total time=   4.0s\n",
            "[CV] END ....................C=0.01, gamma=0.01, kernel=poly; total time=   4.0s\n",
            "[CV] END ....................C=0.01, gamma=0.01, kernel=poly; total time=   4.0s\n",
            "[CV] END ....................C=0.01, gamma=0.01, kernel=poly; total time=   4.0s\n",
            "[CV] END .................C=0.01, gamma=0.01, kernel=sigmoid; total time=   5.4s\n",
            "[CV] END .................C=0.01, gamma=0.01, kernel=sigmoid; total time=   5.4s\n",
            "[CV] END .................C=0.01, gamma=0.01, kernel=sigmoid; total time=   5.4s\n",
            "[CV] END .................C=0.01, gamma=0.01, kernel=sigmoid; total time=   5.5s\n",
            "[CV] END .................C=0.01, gamma=0.01, kernel=sigmoid; total time=   5.4s\n",
            "[CV] END ...................C=0.01, gamma=0.1, kernel=linear; total time=   2.0s\n",
            "[CV] END ...................C=0.01, gamma=0.1, kernel=linear; total time=   2.1s\n",
            "[CV] END ...................C=0.01, gamma=0.1, kernel=linear; total time=   2.0s\n",
            "[CV] END ...................C=0.01, gamma=0.1, kernel=linear; total time=   2.1s\n",
            "[CV] END ...................C=0.01, gamma=0.1, kernel=linear; total time=   3.0s\n",
            "[CV] END ......................C=0.01, gamma=0.1, kernel=rbf; total time=   5.6s\n",
            "[CV] END ......................C=0.01, gamma=0.1, kernel=rbf; total time=   5.6s\n",
            "[CV] END ......................C=0.01, gamma=0.1, kernel=rbf; total time=   5.6s\n",
            "[CV] END ......................C=0.01, gamma=0.1, kernel=rbf; total time=   5.6s\n",
            "[CV] END ......................C=0.01, gamma=0.1, kernel=rbf; total time=   5.6s\n",
            "[CV] END .....................C=0.01, gamma=0.1, kernel=poly; total time=   3.3s\n",
            "[CV] END .....................C=0.01, gamma=0.1, kernel=poly; total time=   3.3s\n",
            "[CV] END .....................C=0.01, gamma=0.1, kernel=poly; total time=   3.2s\n",
            "[CV] END .....................C=0.01, gamma=0.1, kernel=poly; total time=   3.2s\n",
            "[CV] END .....................C=0.01, gamma=0.1, kernel=poly; total time=   3.3s\n",
            "[CV] END ..................C=0.01, gamma=0.1, kernel=sigmoid; total time=   5.4s\n",
            "[CV] END ..................C=0.01, gamma=0.1, kernel=sigmoid; total time=   5.4s\n",
            "[CV] END ..................C=0.01, gamma=0.1, kernel=sigmoid; total time=   5.5s\n",
            "[CV] END ..................C=0.01, gamma=0.1, kernel=sigmoid; total time=   5.4s\n",
            "[CV] END ..................C=0.01, gamma=0.1, kernel=sigmoid; total time=   5.4s\n",
            "[CV] END ..................C=0.1, gamma=0.001, kernel=linear; total time=   2.5s\n",
            "[CV] END ..................C=0.1, gamma=0.001, kernel=linear; total time=   2.5s\n",
            "[CV] END ..................C=0.1, gamma=0.001, kernel=linear; total time=   2.5s\n",
            "[CV] END ..................C=0.1, gamma=0.001, kernel=linear; total time=   2.5s\n",
            "[CV] END ..................C=0.1, gamma=0.001, kernel=linear; total time=   2.4s\n",
            "[CV] END .....................C=0.1, gamma=0.001, kernel=rbf; total time=   5.3s\n",
            "[CV] END .....................C=0.1, gamma=0.001, kernel=rbf; total time=   5.2s\n",
            "[CV] END .....................C=0.1, gamma=0.001, kernel=rbf; total time=   6.0s\n",
            "[CV] END .....................C=0.1, gamma=0.001, kernel=rbf; total time=   5.5s\n",
            "[CV] END .....................C=0.1, gamma=0.001, kernel=rbf; total time=   5.2s\n",
            "[CV] END ....................C=0.1, gamma=0.001, kernel=poly; total time=   4.0s\n",
            "[CV] END ....................C=0.1, gamma=0.001, kernel=poly; total time=   3.9s\n",
            "[CV] END ....................C=0.1, gamma=0.001, kernel=poly; total time=   3.9s\n",
            "[CV] END ....................C=0.1, gamma=0.001, kernel=poly; total time=   3.9s\n",
            "[CV] END ....................C=0.1, gamma=0.001, kernel=poly; total time=   4.0s\n",
            "[CV] END .................C=0.1, gamma=0.001, kernel=sigmoid; total time=   5.4s\n",
            "[CV] END .................C=0.1, gamma=0.001, kernel=sigmoid; total time=   5.4s\n",
            "[CV] END .................C=0.1, gamma=0.001, kernel=sigmoid; total time=   5.4s\n",
            "[CV] END .................C=0.1, gamma=0.001, kernel=sigmoid; total time=   5.4s\n",
            "[CV] END .................C=0.1, gamma=0.001, kernel=sigmoid; total time=   5.4s\n",
            "[CV] END ...................C=0.1, gamma=0.01, kernel=linear; total time=   2.4s\n",
            "[CV] END ...................C=0.1, gamma=0.01, kernel=linear; total time=   2.5s\n",
            "[CV] END ...................C=0.1, gamma=0.01, kernel=linear; total time=   2.5s\n",
            "[CV] END ...................C=0.1, gamma=0.01, kernel=linear; total time=   2.5s\n",
            "[CV] END ...................C=0.1, gamma=0.01, kernel=linear; total time=   2.5s\n",
            "[CV] END ......................C=0.1, gamma=0.01, kernel=rbf; total time=   4.1s\n",
            "[CV] END ......................C=0.1, gamma=0.01, kernel=rbf; total time=   4.1s\n",
            "[CV] END ......................C=0.1, gamma=0.01, kernel=rbf; total time=   4.1s\n",
            "[CV] END ......................C=0.1, gamma=0.01, kernel=rbf; total time=   4.2s\n",
            "[CV] END ......................C=0.1, gamma=0.01, kernel=rbf; total time=   4.1s\n",
            "[CV] END .....................C=0.1, gamma=0.01, kernel=poly; total time=   3.9s\n",
            "[CV] END .....................C=0.1, gamma=0.01, kernel=poly; total time=   4.0s\n",
            "[CV] END .....................C=0.1, gamma=0.01, kernel=poly; total time=   4.8s\n",
            "[CV] END .....................C=0.1, gamma=0.01, kernel=poly; total time=   4.0s\n",
            "[CV] END .....................C=0.1, gamma=0.01, kernel=poly; total time=   4.0s\n",
            "[CV] END ..................C=0.1, gamma=0.01, kernel=sigmoid; total time=   4.2s\n",
            "[CV] END ..................C=0.1, gamma=0.01, kernel=sigmoid; total time=   4.2s\n",
            "[CV] END ..................C=0.1, gamma=0.01, kernel=sigmoid; total time=   4.2s\n",
            "[CV] END ..................C=0.1, gamma=0.01, kernel=sigmoid; total time=   4.2s\n",
            "[CV] END ..................C=0.1, gamma=0.01, kernel=sigmoid; total time=   4.3s\n",
            "[CV] END ....................C=0.1, gamma=0.1, kernel=linear; total time=   2.5s\n",
            "[CV] END ....................C=0.1, gamma=0.1, kernel=linear; total time=   2.5s\n",
            "[CV] END ....................C=0.1, gamma=0.1, kernel=linear; total time=   2.5s\n",
            "[CV] END ....................C=0.1, gamma=0.1, kernel=linear; total time=   2.5s\n",
            "[CV] END ....................C=0.1, gamma=0.1, kernel=linear; total time=   2.4s\n",
            "[CV] END .......................C=0.1, gamma=0.1, kernel=rbf; total time=   4.4s\n",
            "[CV] END .......................C=0.1, gamma=0.1, kernel=rbf; total time=   4.4s\n",
            "[CV] END .......................C=0.1, gamma=0.1, kernel=rbf; total time=   4.4s\n",
            "[CV] END .......................C=0.1, gamma=0.1, kernel=rbf; total time=   4.5s\n",
            "[CV] END .......................C=0.1, gamma=0.1, kernel=rbf; total time=   4.5s\n",
            "[CV] END ......................C=0.1, gamma=0.1, kernel=poly; total time=   3.1s\n",
            "[CV] END ......................C=0.1, gamma=0.1, kernel=poly; total time=   3.2s\n",
            "[CV] END ......................C=0.1, gamma=0.1, kernel=poly; total time=   3.1s\n",
            "[CV] END ......................C=0.1, gamma=0.1, kernel=poly; total time=   3.2s\n",
            "[CV] END ......................C=0.1, gamma=0.1, kernel=poly; total time=   3.4s\n",
            "[CV] END ...................C=0.1, gamma=0.1, kernel=sigmoid; total time=   4.4s\n",
            "[CV] END ...................C=0.1, gamma=0.1, kernel=sigmoid; total time=   4.2s\n",
            "[CV] END ...................C=0.1, gamma=0.1, kernel=sigmoid; total time=   4.1s\n",
            "[CV] END ...................C=0.1, gamma=0.1, kernel=sigmoid; total time=   4.7s\n",
            "[CV] END ...................C=0.1, gamma=0.1, kernel=sigmoid; total time=   5.0s\n",
            "[CV] END ....................C=1, gamma=0.001, kernel=linear; total time=   4.3s\n",
            "[CV] END ....................C=1, gamma=0.001, kernel=linear; total time=   4.4s\n",
            "[CV] END ....................C=1, gamma=0.001, kernel=linear; total time=   4.5s\n",
            "[CV] END ....................C=1, gamma=0.001, kernel=linear; total time=   4.3s\n",
            "[CV] END ....................C=1, gamma=0.001, kernel=linear; total time=   4.3s\n",
            "[CV] END .......................C=1, gamma=0.001, kernel=rbf; total time=   4.0s\n",
            "[CV] END .......................C=1, gamma=0.001, kernel=rbf; total time=   4.1s\n",
            "[CV] END .......................C=1, gamma=0.001, kernel=rbf; total time=   4.0s\n",
            "[CV] END .......................C=1, gamma=0.001, kernel=rbf; total time=   4.2s\n",
            "[CV] END .......................C=1, gamma=0.001, kernel=rbf; total time=   4.0s\n",
            "[CV] END ......................C=1, gamma=0.001, kernel=poly; total time=   4.0s\n",
            "[CV] END ......................C=1, gamma=0.001, kernel=poly; total time=   4.0s\n",
            "[CV] END ......................C=1, gamma=0.001, kernel=poly; total time=   3.9s\n",
            "[CV] END ......................C=1, gamma=0.001, kernel=poly; total time=   4.0s\n",
            "[CV] END ......................C=1, gamma=0.001, kernel=poly; total time=   4.0s\n",
            "[CV] END ...................C=1, gamma=0.001, kernel=sigmoid; total time=   4.2s\n",
            "[CV] END ...................C=1, gamma=0.001, kernel=sigmoid; total time=   4.2s\n",
            "[CV] END ...................C=1, gamma=0.001, kernel=sigmoid; total time=   4.2s\n",
            "[CV] END ...................C=1, gamma=0.001, kernel=sigmoid; total time=   4.2s\n",
            "[CV] END ...................C=1, gamma=0.001, kernel=sigmoid; total time=   4.2s\n",
            "[CV] END .....................C=1, gamma=0.01, kernel=linear; total time=   4.3s\n",
            "[CV] END .....................C=1, gamma=0.01, kernel=linear; total time=   4.5s\n",
            "[CV] END .....................C=1, gamma=0.01, kernel=linear; total time=   4.9s\n",
            "[CV] END .....................C=1, gamma=0.01, kernel=linear; total time=   4.7s\n",
            "[CV] END .....................C=1, gamma=0.01, kernel=linear; total time=   4.4s\n",
            "[CV] END ........................C=1, gamma=0.01, kernel=rbf; total time=   3.8s\n",
            "[CV] END ........................C=1, gamma=0.01, kernel=rbf; total time=   3.9s\n",
            "[CV] END ........................C=1, gamma=0.01, kernel=rbf; total time=   3.8s\n",
            "[CV] END ........................C=1, gamma=0.01, kernel=rbf; total time=   3.9s\n",
            "[CV] END ........................C=1, gamma=0.01, kernel=rbf; total time=   3.7s\n",
            "[CV] END .......................C=1, gamma=0.01, kernel=poly; total time=   3.6s\n",
            "[CV] END .......................C=1, gamma=0.01, kernel=poly; total time=   3.5s\n",
            "[CV] END .......................C=1, gamma=0.01, kernel=poly; total time=   3.6s\n",
            "[CV] END .......................C=1, gamma=0.01, kernel=poly; total time=   3.6s\n",
            "[CV] END .......................C=1, gamma=0.01, kernel=poly; total time=   3.6s\n",
            "[CV] END ....................C=1, gamma=0.01, kernel=sigmoid; total time=   3.7s\n",
            "[CV] END ....................C=1, gamma=0.01, kernel=sigmoid; total time=   3.7s\n",
            "[CV] END ....................C=1, gamma=0.01, kernel=sigmoid; total time=   3.7s\n",
            "[CV] END ....................C=1, gamma=0.01, kernel=sigmoid; total time=   3.7s\n",
            "[CV] END ....................C=1, gamma=0.01, kernel=sigmoid; total time=   3.8s\n",
            "[CV] END ......................C=1, gamma=0.1, kernel=linear; total time=   4.3s\n",
            "[CV] END ......................C=1, gamma=0.1, kernel=linear; total time=   4.3s\n",
            "[CV] END ......................C=1, gamma=0.1, kernel=linear; total time=   4.4s\n",
            "[CV] END ......................C=1, gamma=0.1, kernel=linear; total time=   4.3s\n",
            "[CV] END ......................C=1, gamma=0.1, kernel=linear; total time=   4.4s\n",
            "[CV] END .........................C=1, gamma=0.1, kernel=rbf; total time=   4.4s\n",
            "[CV] END .........................C=1, gamma=0.1, kernel=rbf; total time=   4.5s\n",
            "[CV] END .........................C=1, gamma=0.1, kernel=rbf; total time=   4.5s\n",
            "[CV] END .........................C=1, gamma=0.1, kernel=rbf; total time=   5.4s\n",
            "[CV] END .........................C=1, gamma=0.1, kernel=rbf; total time=   4.5s\n",
            "[CV] END ........................C=1, gamma=0.1, kernel=poly; total time=   6.2s\n",
            "[CV] END ........................C=1, gamma=0.1, kernel=poly; total time=   5.4s\n",
            "[CV] END ........................C=1, gamma=0.1, kernel=poly; total time=   6.1s\n",
            "[CV] END ........................C=1, gamma=0.1, kernel=poly; total time=   6.0s\n",
            "[CV] END ........................C=1, gamma=0.1, kernel=poly; total time=   6.4s\n",
            "[CV] END .....................C=1, gamma=0.1, kernel=sigmoid; total time=   3.5s\n",
            "[CV] END .....................C=1, gamma=0.1, kernel=sigmoid; total time=   3.2s\n",
            "[CV] END .....................C=1, gamma=0.1, kernel=sigmoid; total time=   3.8s\n",
            "[CV] END .....................C=1, gamma=0.1, kernel=sigmoid; total time=   3.4s\n",
            "[CV] END .....................C=1, gamma=0.1, kernel=sigmoid; total time=   3.0s\n",
            "[CV] END ...................C=10, gamma=0.001, kernel=linear; total time=  13.7s\n",
            "[CV] END ...................C=10, gamma=0.001, kernel=linear; total time=  13.9s\n",
            "[CV] END ...................C=10, gamma=0.001, kernel=linear; total time=  13.8s\n",
            "[CV] END ...................C=10, gamma=0.001, kernel=linear; total time=  14.5s\n",
            "[CV] END ...................C=10, gamma=0.001, kernel=linear; total time=  13.4s\n",
            "[CV] END ......................C=10, gamma=0.001, kernel=rbf; total time=   3.8s\n",
            "[CV] END ......................C=10, gamma=0.001, kernel=rbf; total time=   3.8s\n",
            "[CV] END ......................C=10, gamma=0.001, kernel=rbf; total time=   3.8s\n",
            "[CV] END ......................C=10, gamma=0.001, kernel=rbf; total time=   3.7s\n",
            "[CV] END ......................C=10, gamma=0.001, kernel=rbf; total time=   3.8s\n",
            "[CV] END .....................C=10, gamma=0.001, kernel=poly; total time=   4.0s\n",
            "[CV] END .....................C=10, gamma=0.001, kernel=poly; total time=   3.9s\n",
            "[CV] END .....................C=10, gamma=0.001, kernel=poly; total time=   3.9s\n",
            "[CV] END .....................C=10, gamma=0.001, kernel=poly; total time=   3.9s\n",
            "[CV] END .....................C=10, gamma=0.001, kernel=poly; total time=   3.9s\n",
            "[CV] END ..................C=10, gamma=0.001, kernel=sigmoid; total time=   3.6s\n",
            "[CV] END ..................C=10, gamma=0.001, kernel=sigmoid; total time=   4.0s\n",
            "[CV] END ..................C=10, gamma=0.001, kernel=sigmoid; total time=   3.6s\n",
            "[CV] END ..................C=10, gamma=0.001, kernel=sigmoid; total time=   3.6s\n",
            "[CV] END ..................C=10, gamma=0.001, kernel=sigmoid; total time=   3.7s\n",
            "[CV] END ....................C=10, gamma=0.01, kernel=linear; total time=  13.8s\n",
            "[CV] END ....................C=10, gamma=0.01, kernel=linear; total time=  14.5s\n",
            "[CV] END ....................C=10, gamma=0.01, kernel=linear; total time=  13.8s\n",
            "[CV] END ....................C=10, gamma=0.01, kernel=linear; total time=  13.6s\n",
            "[CV] END ....................C=10, gamma=0.01, kernel=linear; total time=  13.5s\n",
            "[CV] END .......................C=10, gamma=0.01, kernel=rbf; total time=   4.4s\n",
            "[CV] END .......................C=10, gamma=0.01, kernel=rbf; total time=   4.4s\n",
            "[CV] END .......................C=10, gamma=0.01, kernel=rbf; total time=   4.4s\n",
            "[CV] END .......................C=10, gamma=0.01, kernel=rbf; total time=   4.4s\n",
            "[CV] END .......................C=10, gamma=0.01, kernel=rbf; total time=   4.4s\n",
            "[CV] END ......................C=10, gamma=0.01, kernel=poly; total time=   3.1s\n",
            "[CV] END ......................C=10, gamma=0.01, kernel=poly; total time=   3.2s\n",
            "[CV] END ......................C=10, gamma=0.01, kernel=poly; total time=   3.3s\n",
            "[CV] END ......................C=10, gamma=0.01, kernel=poly; total time=   3.2s\n",
            "[CV] END ......................C=10, gamma=0.01, kernel=poly; total time=   3.2s\n",
            "[CV] END ...................C=10, gamma=0.01, kernel=sigmoid; total time=   4.4s\n",
            "[CV] END ...................C=10, gamma=0.01, kernel=sigmoid; total time=   4.7s\n",
            "[CV] END ...................C=10, gamma=0.01, kernel=sigmoid; total time=   4.5s\n",
            "[CV] END ...................C=10, gamma=0.01, kernel=sigmoid; total time=   5.6s\n",
            "[CV] END ...................C=10, gamma=0.01, kernel=sigmoid; total time=   4.6s\n",
            "[CV] END .....................C=10, gamma=0.1, kernel=linear; total time=  13.8s\n",
            "[CV] END .....................C=10, gamma=0.1, kernel=linear; total time=  13.7s\n",
            "[CV] END .....................C=10, gamma=0.1, kernel=linear; total time=  13.9s\n",
            "[CV] END .....................C=10, gamma=0.1, kernel=linear; total time=  13.8s\n",
            "[CV] END .....................C=10, gamma=0.1, kernel=linear; total time=  13.3s\n",
            "[CV] END ........................C=10, gamma=0.1, kernel=rbf; total time=   5.8s\n",
            "[CV] END ........................C=10, gamma=0.1, kernel=rbf; total time=   5.9s\n",
            "[CV] END ........................C=10, gamma=0.1, kernel=rbf; total time=   5.8s\n",
            "[CV] END ........................C=10, gamma=0.1, kernel=rbf; total time=   6.1s\n",
            "[CV] END ........................C=10, gamma=0.1, kernel=rbf; total time=   6.7s\n",
            "[CV] END .......................C=10, gamma=0.1, kernel=poly; total time=  37.8s\n",
            "[CV] END .......................C=10, gamma=0.1, kernel=poly; total time=  37.6s\n",
            "[CV] END .......................C=10, gamma=0.1, kernel=poly; total time=  41.0s\n",
            "[CV] END .......................C=10, gamma=0.1, kernel=poly; total time=  36.0s\n",
            "[CV] END .......................C=10, gamma=0.1, kernel=poly; total time=  49.9s\n",
            "[CV] END ....................C=10, gamma=0.1, kernel=sigmoid; total time=   3.4s\n",
            "[CV] END ....................C=10, gamma=0.1, kernel=sigmoid; total time=   3.6s\n",
            "[CV] END ....................C=10, gamma=0.1, kernel=sigmoid; total time=   3.3s\n",
            "[CV] END ....................C=10, gamma=0.1, kernel=sigmoid; total time=   3.3s\n",
            "[CV] END ....................C=10, gamma=0.1, kernel=sigmoid; total time=   3.0s\n",
            "{'C': 10, 'gamma': 0.01, 'kernel': 'rbf'}\n",
            "0.7583809523809524\n"
          ]
        }
      ],
      "source": [
        "# Grid Search CV on SVMs\n",
        "\n",
        "from sklearn.svm import SVC\n",
        "from sklearn.model_selection import GridSearchCV\n",
        "\n",
        "svm_parameters = {\n",
        "                  'C': [0.001, 0.01, 0.1, 1, 10],\n",
        "                  'gamma': [0.001, 0.01, 0.1],\n",
        "                  'kernel': ['linear', 'rbf', 'poly', 'sigmoid']\n",
        "                  }\n",
        "SVM = SVC()\n",
        "\n",
        "clf = GridSearchCV(SVM,         # model\n",
        "                  param_grid = svm_parameters,   # hyperparameters\n",
        "                  scoring='accuracy',        # metric for scoring\n",
        "                  cv=5,                      # number of folds\n",
        "                  verbose=2)\n",
        "\n",
        "try:\n",
        "  clf.fit(X_train, y_train.ravel())\n",
        "except ValueError:\n",
        "  print('Incompatible Parameters')\n",
        "\n",
        "# Best combination of parameters\n",
        "print(clf.best_params_)\n",
        "\n",
        "#Best CV Score\n",
        "print(clf.best_score_)"
      ]
    },
    {
      "cell_type": "code",
      "execution_count": null,
      "metadata": {
        "id": "2cNj6RSwbDoz",
        "colab": {
          "base_uri": "https://localhost:8080/"
        },
        "outputId": "9e89b598-1047-41aa-fb45-b3b728bca2a2"
      },
      "outputs": [
        {
          "output_type": "stream",
          "name": "stdout",
          "text": [
            "Decision Tree:\n",
            " \n",
            "5-Fold CV Avg accuracy:0.6594285714285715\n",
            " \n",
            "                             precision    recall  f1-score   support\n",
            "\n",
            "Does Not Have Heart Disease       0.66      0.68      0.67      2235\n",
            "          Has Heart Disease       0.68      0.65      0.66      2265\n",
            "\n",
            "                   accuracy                           0.67      4500\n",
            "                  macro avg       0.67      0.67      0.67      4500\n",
            "               weighted avg       0.67      0.67      0.67      4500\n",
            "\n"
          ]
        }
      ],
      "source": [
        "# Building Decision Tree Model\n",
        "\n",
        "print('Decision Tree:', end ='\\n \\n')\n",
        "\n",
        "from sklearn.tree import DecisionTreeClassifier\n",
        "\n",
        "dt = DecisionTreeClassifier()\n",
        "build_model(dt)"
      ]
    },
    {
      "cell_type": "code",
      "execution_count": null,
      "metadata": {
        "id": "ty5oupBEEMEH",
        "colab": {
          "base_uri": "https://localhost:8080/"
        },
        "outputId": "6806b092-58e0-43d5-982e-5d72213ba03a"
      },
      "outputs": [
        {
          "output_type": "execute_result",
          "data": {
            "text/plain": [
              "{'ccp_alpha': 0.0,\n",
              " 'class_weight': None,\n",
              " 'criterion': 'gini',\n",
              " 'max_depth': None,\n",
              " 'max_features': None,\n",
              " 'max_leaf_nodes': None,\n",
              " 'min_impurity_decrease': 0.0,\n",
              " 'min_samples_leaf': 1,\n",
              " 'min_samples_split': 2,\n",
              " 'min_weight_fraction_leaf': 0.0,\n",
              " 'random_state': None,\n",
              " 'splitter': 'best'}"
            ]
          },
          "metadata": {},
          "execution_count": 37
        }
      ],
      "source": [
        "# Parameters of Decision Tree\n",
        "dt.get_params()"
      ]
    },
    {
      "cell_type": "code",
      "execution_count": null,
      "metadata": {
        "id": "pY4LdfYNhf8m",
        "colab": {
          "base_uri": "https://localhost:8080/"
        },
        "outputId": "edc3c2dc-fa74-4b7f-e80a-f6c30ab55339"
      },
      "outputs": [
        {
          "output_type": "execute_result",
          "data": {
            "text/plain": [
              "array([0.24505805, 0.02817025, 0.00951597, 0.02436478, 0.05511136,\n",
              "       0.05096052, 0.04281183, 0.02659097, 0.22593706, 0.03025107,\n",
              "       0.02994659, 0.02062922, 0.08687244, 0.07560229, 0.01749787,\n",
              "       0.01043038, 0.02024934])"
            ]
          },
          "metadata": {},
          "execution_count": 38
        }
      ],
      "source": [
        "# Decision Tree - Feature Importance\n",
        "\n",
        "# Get coefficients of different features\n",
        "dt.feature_importances_"
      ]
    },
    {
      "cell_type": "code",
      "execution_count": null,
      "metadata": {
        "id": "x-w1QTSeir4V",
        "colab": {
          "base_uri": "https://localhost:8080/",
          "height": 582
        },
        "outputId": "0f8daa4b-0943-4d26-b851-325dfdf86062"
      },
      "outputs": [
        {
          "output_type": "execute_result",
          "data": {
            "text/plain": [
              "                         0\n",
              "BMI               0.245058\n",
              "AgeCategory       0.225937\n",
              "GenHealth         0.086872\n",
              "SleepTime         0.075602\n",
              "PhysicalHealth    0.055111\n",
              "MentalHealth      0.050961\n",
              "DiffWalking       0.042812\n",
              "Race              0.030251\n",
              "Diabetic          0.029947\n",
              "Smoking           0.028170\n",
              "Sex               0.026591\n",
              "Stroke            0.024365\n",
              "PhysicalActivity  0.020629\n",
              "SkinCancer        0.020249\n",
              "Asthma            0.017498\n",
              "KidneyDisease     0.010430\n",
              "AlcoholDrinking   0.009516"
            ],
            "text/html": [
              "\n",
              "  <div id=\"df-9c58ac22-7280-48ba-959a-d84515015d22\">\n",
              "    <div class=\"colab-df-container\">\n",
              "      <div>\n",
              "<style scoped>\n",
              "    .dataframe tbody tr th:only-of-type {\n",
              "        vertical-align: middle;\n",
              "    }\n",
              "\n",
              "    .dataframe tbody tr th {\n",
              "        vertical-align: top;\n",
              "    }\n",
              "\n",
              "    .dataframe thead th {\n",
              "        text-align: right;\n",
              "    }\n",
              "</style>\n",
              "<table border=\"1\" class=\"dataframe\">\n",
              "  <thead>\n",
              "    <tr style=\"text-align: right;\">\n",
              "      <th></th>\n",
              "      <th>0</th>\n",
              "    </tr>\n",
              "  </thead>\n",
              "  <tbody>\n",
              "    <tr>\n",
              "      <th>BMI</th>\n",
              "      <td>0.245058</td>\n",
              "    </tr>\n",
              "    <tr>\n",
              "      <th>AgeCategory</th>\n",
              "      <td>0.225937</td>\n",
              "    </tr>\n",
              "    <tr>\n",
              "      <th>GenHealth</th>\n",
              "      <td>0.086872</td>\n",
              "    </tr>\n",
              "    <tr>\n",
              "      <th>SleepTime</th>\n",
              "      <td>0.075602</td>\n",
              "    </tr>\n",
              "    <tr>\n",
              "      <th>PhysicalHealth</th>\n",
              "      <td>0.055111</td>\n",
              "    </tr>\n",
              "    <tr>\n",
              "      <th>MentalHealth</th>\n",
              "      <td>0.050961</td>\n",
              "    </tr>\n",
              "    <tr>\n",
              "      <th>DiffWalking</th>\n",
              "      <td>0.042812</td>\n",
              "    </tr>\n",
              "    <tr>\n",
              "      <th>Race</th>\n",
              "      <td>0.030251</td>\n",
              "    </tr>\n",
              "    <tr>\n",
              "      <th>Diabetic</th>\n",
              "      <td>0.029947</td>\n",
              "    </tr>\n",
              "    <tr>\n",
              "      <th>Smoking</th>\n",
              "      <td>0.028170</td>\n",
              "    </tr>\n",
              "    <tr>\n",
              "      <th>Sex</th>\n",
              "      <td>0.026591</td>\n",
              "    </tr>\n",
              "    <tr>\n",
              "      <th>Stroke</th>\n",
              "      <td>0.024365</td>\n",
              "    </tr>\n",
              "    <tr>\n",
              "      <th>PhysicalActivity</th>\n",
              "      <td>0.020629</td>\n",
              "    </tr>\n",
              "    <tr>\n",
              "      <th>SkinCancer</th>\n",
              "      <td>0.020249</td>\n",
              "    </tr>\n",
              "    <tr>\n",
              "      <th>Asthma</th>\n",
              "      <td>0.017498</td>\n",
              "    </tr>\n",
              "    <tr>\n",
              "      <th>KidneyDisease</th>\n",
              "      <td>0.010430</td>\n",
              "    </tr>\n",
              "    <tr>\n",
              "      <th>AlcoholDrinking</th>\n",
              "      <td>0.009516</td>\n",
              "    </tr>\n",
              "  </tbody>\n",
              "</table>\n",
              "</div>\n",
              "      <button class=\"colab-df-convert\" onclick=\"convertToInteractive('df-9c58ac22-7280-48ba-959a-d84515015d22')\"\n",
              "              title=\"Convert this dataframe to an interactive table.\"\n",
              "              style=\"display:none;\">\n",
              "        \n",
              "  <svg xmlns=\"http://www.w3.org/2000/svg\" height=\"24px\"viewBox=\"0 0 24 24\"\n",
              "       width=\"24px\">\n",
              "    <path d=\"M0 0h24v24H0V0z\" fill=\"none\"/>\n",
              "    <path d=\"M18.56 5.44l.94 2.06.94-2.06 2.06-.94-2.06-.94-.94-2.06-.94 2.06-2.06.94zm-11 1L8.5 8.5l.94-2.06 2.06-.94-2.06-.94L8.5 2.5l-.94 2.06-2.06.94zm10 10l.94 2.06.94-2.06 2.06-.94-2.06-.94-.94-2.06-.94 2.06-2.06.94z\"/><path d=\"M17.41 7.96l-1.37-1.37c-.4-.4-.92-.59-1.43-.59-.52 0-1.04.2-1.43.59L10.3 9.45l-7.72 7.72c-.78.78-.78 2.05 0 2.83L4 21.41c.39.39.9.59 1.41.59.51 0 1.02-.2 1.41-.59l7.78-7.78 2.81-2.81c.8-.78.8-2.07 0-2.86zM5.41 20L4 18.59l7.72-7.72 1.47 1.35L5.41 20z\"/>\n",
              "  </svg>\n",
              "      </button>\n",
              "      \n",
              "  <style>\n",
              "    .colab-df-container {\n",
              "      display:flex;\n",
              "      flex-wrap:wrap;\n",
              "      gap: 12px;\n",
              "    }\n",
              "\n",
              "    .colab-df-convert {\n",
              "      background-color: #E8F0FE;\n",
              "      border: none;\n",
              "      border-radius: 50%;\n",
              "      cursor: pointer;\n",
              "      display: none;\n",
              "      fill: #1967D2;\n",
              "      height: 32px;\n",
              "      padding: 0 0 0 0;\n",
              "      width: 32px;\n",
              "    }\n",
              "\n",
              "    .colab-df-convert:hover {\n",
              "      background-color: #E2EBFA;\n",
              "      box-shadow: 0px 1px 2px rgba(60, 64, 67, 0.3), 0px 1px 3px 1px rgba(60, 64, 67, 0.15);\n",
              "      fill: #174EA6;\n",
              "    }\n",
              "\n",
              "    [theme=dark] .colab-df-convert {\n",
              "      background-color: #3B4455;\n",
              "      fill: #D2E3FC;\n",
              "    }\n",
              "\n",
              "    [theme=dark] .colab-df-convert:hover {\n",
              "      background-color: #434B5C;\n",
              "      box-shadow: 0px 1px 3px 1px rgba(0, 0, 0, 0.15);\n",
              "      filter: drop-shadow(0px 1px 2px rgba(0, 0, 0, 0.3));\n",
              "      fill: #FFFFFF;\n",
              "    }\n",
              "  </style>\n",
              "\n",
              "      <script>\n",
              "        const buttonEl =\n",
              "          document.querySelector('#df-9c58ac22-7280-48ba-959a-d84515015d22 button.colab-df-convert');\n",
              "        buttonEl.style.display =\n",
              "          google.colab.kernel.accessAllowed ? 'block' : 'none';\n",
              "\n",
              "        async function convertToInteractive(key) {\n",
              "          const element = document.querySelector('#df-9c58ac22-7280-48ba-959a-d84515015d22');\n",
              "          const dataTable =\n",
              "            await google.colab.kernel.invokeFunction('convertToInteractive',\n",
              "                                                     [key], {});\n",
              "          if (!dataTable) return;\n",
              "\n",
              "          const docLinkHtml = 'Like what you see? Visit the ' +\n",
              "            '<a target=\"_blank\" href=https://colab.research.google.com/notebooks/data_table.ipynb>data table notebook</a>'\n",
              "            + ' to learn more about interactive tables.';\n",
              "          element.innerHTML = '';\n",
              "          dataTable['output_type'] = 'display_data';\n",
              "          await google.colab.output.renderOutput(dataTable, element);\n",
              "          const docLink = document.createElement('div');\n",
              "          docLink.innerHTML = docLinkHtml;\n",
              "          element.appendChild(docLink);\n",
              "        }\n",
              "      </script>\n",
              "    </div>\n",
              "  </div>\n",
              "  "
            ]
          },
          "metadata": {},
          "execution_count": 39
        }
      ],
      "source": [
        "feature_names = heart_disease.drop(['HeartDisease'], axis = 1).columns # Column name of features\n",
        "\n",
        "# Feature Importance DataFrame\n",
        "feature_importance = pd.DataFrame(dt.feature_importances_, index = feature_names).sort_values(0,ascending=False)\n",
        "feature_importance"
      ]
    },
    {
      "cell_type": "code",
      "execution_count": null,
      "metadata": {
        "id": "M2nLmkDEiRID",
        "colab": {
          "base_uri": "https://localhost:8080/",
          "height": 367
        },
        "outputId": "51e4953d-10ba-4a38-d3a5-5d77fc583cba"
      },
      "outputs": [
        {
          "output_type": "execute_result",
          "data": {
            "text/plain": [
              "<matplotlib.axes._subplots.AxesSubplot at 0x7fcbf555f390>"
            ]
          },
          "metadata": {},
          "execution_count": 40
        },
        {
          "output_type": "display_data",
          "data": {
            "text/plain": [
              "<Figure size 432x288 with 1 Axes>"
            ],
            "image/png": "[encoded data removed]"
          },
          "metadata": {
            "needs_background": "light"
          }
        }
      ],
      "source": [
        "# Bar plot showing feature importance\n",
        "feature_importance.plot(kind='bar', title='Decision Tree Feature Importance')"
      ]
    },
    {
      "cell_type": "code",
      "execution_count": null,
      "metadata": {
        "id": "08zJKuQwbM57",
        "colab": {
          "base_uri": "https://localhost:8080/"
        },
        "outputId": "c4543976-e81a-4dc6-dd25-3faf8308f53d"
      },
      "outputs": [
        {
          "output_type": "stream",
          "name": "stdout",
          "text": [
            "Random Forest:\n",
            " \n",
            "5-Fold CV Avg accuracy:0.7239047619047618\n",
            " \n",
            "                             precision    recall  f1-score   support\n",
            "\n",
            "Does Not Have Heart Disease       0.71      0.76      0.73      2235\n",
            "          Has Heart Disease       0.75      0.70      0.72      2265\n",
            "\n",
            "                   accuracy                           0.73      4500\n",
            "                  macro avg       0.73      0.73      0.73      4500\n",
            "               weighted avg       0.73      0.73      0.73      4500\n",
            "\n"
          ]
        }
      ],
      "source": [
        "# Building Random Forest Model\n",
        "\n",
        "print('Random Forest:', end ='\\n \\n')\n",
        "\n",
        "from sklearn.ensemble import RandomForestClassifier\n",
        "\n",
        "rf = RandomForestClassifier(n_estimators=10)\n",
        "build_model(rf)"
      ]
    },
    {
      "cell_type": "code",
      "execution_count": null,
      "metadata": {
        "id": "I9PisJkPia6z",
        "colab": {
          "base_uri": "https://localhost:8080/",
          "height": 582
        },
        "outputId": "aba68f2a-6389-4650-ef82-8163c48a4ea2"
      },
      "outputs": [
        {
          "output_type": "execute_result",
          "data": {
            "text/plain": [
              "                         0\n",
              "BMI               0.210057\n",
              "AgeCategory       0.205345\n",
              "SleepTime         0.084241\n",
              "GenHealth         0.083113\n",
              "PhysicalHealth    0.066368\n",
              "MentalHealth      0.056220\n",
              "DiffWalking       0.046675\n",
              "Diabetic          0.039158\n",
              "Race              0.032988\n",
              "Stroke            0.031519\n",
              "Sex               0.030552\n",
              "Smoking           0.026479\n",
              "PhysicalActivity  0.025292\n",
              "Asthma            0.019749\n",
              "SkinCancer        0.017864\n",
              "KidneyDisease     0.013950\n",
              "AlcoholDrinking   0.010431"
            ],
            "text/html": [
              "\n",
              "  <div id=\"df-4a27742f-3701-44ae-9f06-18ed3b15ab12\">\n",
              "    <div class=\"colab-df-container\">\n",
              "      <div>\n",
              "<style scoped>\n",
              "    .dataframe tbody tr th:only-of-type {\n",
              "        vertical-align: middle;\n",
              "    }\n",
              "\n",
              "    .dataframe tbody tr th {\n",
              "        vertical-align: top;\n",
              "    }\n",
              "\n",
              "    .dataframe thead th {\n",
              "        text-align: right;\n",
              "    }\n",
              "</style>\n",
              "<table border=\"1\" class=\"dataframe\">\n",
              "  <thead>\n",
              "    <tr style=\"text-align: right;\">\n",
              "      <th></th>\n",
              "      <th>0</th>\n",
              "    </tr>\n",
              "  </thead>\n",
              "  <tbody>\n",
              "    <tr>\n",
              "      <th>BMI</th>\n",
              "      <td>0.210057</td>\n",
              "    </tr>\n",
              "    <tr>\n",
              "      <th>AgeCategory</th>\n",
              "      <td>0.205345</td>\n",
              "    </tr>\n",
              "    <tr>\n",
              "      <th>SleepTime</th>\n",
              "      <td>0.084241</td>\n",
              "    </tr>\n",
              "    <tr>\n",
              "      <th>GenHealth</th>\n",
              "      <td>0.083113</td>\n",
              "    </tr>\n",
              "    <tr>\n",
              "      <th>PhysicalHealth</th>\n",
              "      <td>0.066368</td>\n",
              "    </tr>\n",
              "    <tr>\n",
              "      <th>MentalHealth</th>\n",
              "      <td>0.056220</td>\n",
              "    </tr>\n",
              "    <tr>\n",
              "      <th>DiffWalking</th>\n",
              "      <td>0.046675</td>\n",
              "    </tr>\n",
              "    <tr>\n",
              "      <th>Diabetic</th>\n",
              "      <td>0.039158</td>\n",
              "    </tr>\n",
              "    <tr>\n",
              "      <th>Race</th>\n",
              "      <td>0.032988</td>\n",
              "    </tr>\n",
              "    <tr>\n",
              "      <th>Stroke</th>\n",
              "      <td>0.031519</td>\n",
              "    </tr>\n",
              "    <tr>\n",
              "      <th>Sex</th>\n",
              "      <td>0.030552</td>\n",
              "    </tr>\n",
              "    <tr>\n",
              "      <th>Smoking</th>\n",
              "      <td>0.026479</td>\n",
              "    </tr>\n",
              "    <tr>\n",
              "      <th>PhysicalActivity</th>\n",
              "      <td>0.025292</td>\n",
              "    </tr>\n",
              "    <tr>\n",
              "      <th>Asthma</th>\n",
              "      <td>0.019749</td>\n",
              "    </tr>\n",
              "    <tr>\n",
              "      <th>SkinCancer</th>\n",
              "      <td>0.017864</td>\n",
              "    </tr>\n",
              "    <tr>\n",
              "      <th>KidneyDisease</th>\n",
              "      <td>0.013950</td>\n",
              "    </tr>\n",
              "    <tr>\n",
              "      <th>AlcoholDrinking</th>\n",
              "      <td>0.010431</td>\n",
              "    </tr>\n",
              "  </tbody>\n",
              "</table>\n",
              "</div>\n",
              "      <button class=\"colab-df-convert\" onclick=\"convertToInteractive('df-4a27742f-3701-44ae-9f06-18ed3b15ab12')\"\n",
              "              title=\"Convert this dataframe to an interactive table.\"\n",
              "              style=\"display:none;\">\n",
              "        \n",
              "  <svg xmlns=\"http://www.w3.org/2000/svg\" height=\"24px\"viewBox=\"0 0 24 24\"\n",
              "       width=\"24px\">\n",
              "    <path d=\"M0 0h24v24H0V0z\" fill=\"none\"/>\n",
              "    <path d=\"M18.56 5.44l.94 2.06.94-2.06 2.06-.94-2.06-.94-.94-2.06-.94 2.06-2.06.94zm-11 1L8.5 8.5l.94-2.06 2.06-.94-2.06-.94L8.5 2.5l-.94 2.06-2.06.94zm10 10l.94 2.06.94-2.06 2.06-.94-2.06-.94-.94-2.06-.94 2.06-2.06.94z\"/><path d=\"M17.41 7.96l-1.37-1.37c-.4-.4-.92-.59-1.43-.59-.52 0-1.04.2-1.43.59L10.3 9.45l-7.72 7.72c-.78.78-.78 2.05 0 2.83L4 21.41c.39.39.9.59 1.41.59.51 0 1.02-.2 1.41-.59l7.78-7.78 2.81-2.81c.8-.78.8-2.07 0-2.86zM5.41 20L4 18.59l7.72-7.72 1.47 1.35L5.41 20z\"/>\n",
              "  </svg>\n",
              "      </button>\n",
              "      \n",
              "  <style>\n",
              "    .colab-df-container {\n",
              "      display:flex;\n",
              "      flex-wrap:wrap;\n",
              "      gap: 12px;\n",
              "    }\n",
              "\n",
              "    .colab-df-convert {\n",
              "      background-color: #E8F0FE;\n",
              "      border: none;\n",
              "      border-radius: 50%;\n",
              "      cursor: pointer;\n",
              "      display: none;\n",
              "      fill: #1967D2;\n",
              "      height: 32px;\n",
              "      padding: 0 0 0 0;\n",
              "      width: 32px;\n",
              "    }\n",
              "\n",
              "    .colab-df-convert:hover {\n",
              "      background-color: #E2EBFA;\n",
              "      box-shadow: 0px 1px 2px rgba(60, 64, 67, 0.3), 0px 1px 3px 1px rgba(60, 64, 67, 0.15);\n",
              "      fill: #174EA6;\n",
              "    }\n",
              "\n",
              "    [theme=dark] .colab-df-convert {\n",
              "      background-color: #3B4455;\n",
              "      fill: #D2E3FC;\n",
              "    }\n",
              "\n",
              "    [theme=dark] .colab-df-convert:hover {\n",
              "      background-color: #434B5C;\n",
              "      box-shadow: 0px 1px 3px 1px rgba(0, 0, 0, 0.15);\n",
              "      filter: drop-shadow(0px 1px 2px rgba(0, 0, 0, 0.3));\n",
              "      fill: #FFFFFF;\n",
              "    }\n",
              "  </style>\n",
              "\n",
              "      <script>\n",
              "        const buttonEl =\n",
              "          document.querySelector('#df-4a27742f-3701-44ae-9f06-18ed3b15ab12 button.colab-df-convert');\n",
              "        buttonEl.style.display =\n",
              "          google.colab.kernel.accessAllowed ? 'block' : 'none';\n",
              "\n",
              "        async function convertToInteractive(key) {\n",
              "          const element = document.querySelector('#df-4a27742f-3701-44ae-9f06-18ed3b15ab12');\n",
              "          const dataTable =\n",
              "            await google.colab.kernel.invokeFunction('convertToInteractive',\n",
              "                                                     [key], {});\n",
              "          if (!dataTable) return;\n",
              "\n",
              "          const docLinkHtml = 'Like what you see? Visit the ' +\n",
              "            '<a target=\"_blank\" href=https://colab.research.google.com/notebooks/data_table.ipynb>data table notebook</a>'\n",
              "            + ' to learn more about interactive tables.';\n",
              "          element.innerHTML = '';\n",
              "          dataTable['output_type'] = 'display_data';\n",
              "          await google.colab.output.renderOutput(dataTable, element);\n",
              "          const docLink = document.createElement('div');\n",
              "          docLink.innerHTML = docLinkHtml;\n",
              "          element.appendChild(docLink);\n",
              "        }\n",
              "      </script>\n",
              "    </div>\n",
              "  </div>\n",
              "  "
            ]
          },
          "metadata": {},
          "execution_count": 42
        }
      ],
      "source": [
        "# Random Forest - Feature Importance\n",
        "\n",
        "# Get coefficients of different features\n",
        "rf.feature_importances_\n",
        "\n",
        "# Feature Importance DataFrame\n",
        "feature_importance = pd.DataFrame(rf.feature_importances_, index = feature_names).sort_values(0,ascending=False)\n",
        "feature_importance"
      ]
    },
    {
      "cell_type": "code",
      "execution_count": null,
      "metadata": {
        "id": "PMDuA3cciz8X",
        "colab": {
          "base_uri": "https://localhost:8080/",
          "height": 367
        },
        "outputId": "28c5ee75-bc56-4203-b38d-4a3d463363c4"
      },
      "outputs": [
        {
          "output_type": "execute_result",
          "data": {
            "text/plain": [
              "<matplotlib.axes._subplots.AxesSubplot at 0x7fcbf644fa50>"
            ]
          },
          "metadata": {},
          "execution_count": 43
        },
        {
          "output_type": "display_data",
          "data": {
            "text/plain": [
              "<Figure size 432x288 with 1 Axes>"
            ],
            "image/png": "[encoded data removed]"
          },
          "metadata": {
            "needs_background": "light"
          }
        }
      ],
      "source": [
        "# Bar plot showing feature importance\n",
        "feature_importance.plot(kind='bar', title='Random Forest Feature Importance')"
      ]
    },
    {
      "cell_type": "code",
      "source": [
        "# Cross Validation Accuracy Graph\n",
        "\n",
        "models = ['KNN', 'BNB', 'Log Reg', 'SVM (Linear)', 'SVM (RBF)', 'SVM (Poly)', 'SVM (Sig)', 'DT', 'RF']\n",
        "\n",
        "# Set x-axis length\n",
        "X_axis = np.arange(len(models))\n",
        "\n",
        "# Spacing between each bar\n",
        "spacing= 0.15\n",
        "\n",
        "# Setting the size of the graph\n",
        "plt.rcParams[\"figure.figsize\"] = (20,3)\n",
        "\n",
        "# Plotting 2 bars for each model on the x-axis - Test Accuracy and CV Accuracy\n",
        "plt.bar(X_axis-spacing, cv_accuracy, 0.3, label = 'Cross Validation Accuracy')\n",
        "plt.bar(X_axis+spacing, accuracy_scores, 0.3, label = 'Test Accuracy')\n",
        "\n",
        "# Setting the range of  X axis\n",
        "plt.xticks(X_axis, models)\n",
        "plt.xlabel(\"Model\")\n",
        "plt.ylabel(\"Weighted Avg\")\n",
        "plt.title(\"Model vs Cross Validation Accuracy and Test Accuracy\")\n",
        "plt.legend(loc='upper right')\n",
        "\n",
        "plt.show()\n"
      ],
      "metadata": {
        "id": "NAKmLHXYzkYk",
        "colab": {
          "base_uri": "https://localhost:8080/",
          "height": 139
        },
        "outputId": "d1650e6a-b259-41f0-f5b6-78d79034ab54"
      },
      "execution_count": null,
      "outputs": [
        {
          "output_type": "display_data",
          "data": {
            "text/plain": [
              "<Figure size 1440x216 with 1 Axes>"
            ],
            "image/png": "[encoded data removed]"
          },
          "metadata": {
            "needs_background": "light"
          }
        }
      ]
    },
    {
      "cell_type": "code",
      "execution_count": null,
      "metadata": {
        "id": "h2WWq1yf9zm9",
        "colab": {
          "base_uri": "https://localhost:8080/",
          "height": 139
        },
        "outputId": "780c07e2-9a52-41b7-e6b7-ace0544ae091"
      },
      "outputs": [
        {
          "output_type": "display_data",
          "data": {
            "text/plain": [
              "<Figure size 1440x216 with 1 Axes>"
            ],
            "image/png": "[encoded data removed]"
          },
          "metadata": {
            "needs_background": "light"
          }
        }
      ],
      "source": [
        "# Classification Metrics Graph\n",
        "\n",
        "models = ['KNN', 'BNB', 'Log Reg', 'SVM (Linear)', 'SVM (RBF)', 'SVM (Poly)', 'SVM (Sig)', 'DT', 'RF']\n",
        "\n",
        "# Set x-axis length\n",
        "X_axis = np.arange(len(models))\n",
        "\n",
        "# Spacing between each bar\n",
        "spacing= 0.15\n",
        "\n",
        "# Setting the size of the graph\n",
        "plt.rcParams[\"figure.figsize\"] = (20,3)\n",
        "\n",
        "# Plotting 4 bars for each model on the x-axis - Accuracy, Precision, Recall, and F1\n",
        "plt.bar(X_axis - spacing, accuracy_scores, 0.25, label = 'Accuracy')\n",
        "plt.bar(X_axis, precision_scores, 0.25, label = 'Precision')\n",
        "plt.bar(X_axis + spacing, recall_scores, 0.25, label = 'Recall')\n",
        "plt.bar(X_axis + spacing * 2, f1_scores, 0.25, label = 'F1-Score')\n",
        "\n",
        "# Setting the range of  X axis\n",
        "plt.xticks(X_axis, models)\n",
        "plt.xlabel(\"Model\")\n",
        "plt.ylabel(\"Weighted Avg\")\n",
        "plt.title(\"Model vs Weighted Avg Of Various Metrics\")\n",
        "plt.legend(loc='upper right')\n",
        "\n",
        "plt.show()"
      ]
    },
    {
      "cell_type": "code",
      "source": [
        "# Classification Metrics DataFrame\n",
        "\n",
        "scores_dict = {'Model': models,\n",
        "               'CV Accuracy': cv_accuracy,\n",
        "               'Accuracy': accuracy_scores,\n",
        "               'Precision': precision_scores,\n",
        "               'Recall': recall_scores,\n",
        "               'F1_score': f1_scores}\n",
        "\n",
        "scores_df = pd.DataFrame(scores_dict).sort_values(by=['Accuracy'], ascending=False)\n",
        "scores_df"
      ],
      "metadata": {
        "id": "tbAgFJZLoPTg",
        "colab": {
          "base_uri": "https://localhost:8080/",
          "height": 332
        },
        "outputId": "8a3a06f2-3bdb-467d-f282-0adf1a3292ff"
      },
      "execution_count": null,
      "outputs": [
        {
          "output_type": "execute_result",
          "data": {
            "text/plain": [
              "          Model  CV Accuracy  Accuracy  Precision    Recall  F1_score\n",
              "4     SVM (RBF)     0.756667  0.756222   0.757489  0.756222  0.755834\n",
              "2       Log Reg     0.753048  0.754222   0.754223  0.754222  0.754213\n",
              "3  SVM (Linear)     0.754476  0.753778   0.754102  0.753778  0.753651\n",
              "5    SVM (Poly)     0.744381  0.745111   0.745205  0.745111  0.745108\n",
              "8            RF     0.723905  0.727333   0.728513  0.727333  0.727080\n",
              "0           KNN     0.724667  0.725556   0.726404  0.725556  0.725382\n",
              "1           BNB     0.727905  0.721556   0.723854  0.721556  0.720985\n",
              "6     SVM (Sig)     0.678571  0.674667   0.674760  0.674667  0.674660\n",
              "7            DT     0.659429  0.667778   0.668015  0.667778  0.667730"
            ],
            "text/html": [
              "\n",
              "  <div id=\"df-e820b137-dc9b-4fa5-a7e3-88055768c9bc\">\n",
              "    <div class=\"colab-df-container\">\n",
              "      <div>\n",
              "<style scoped>\n",
              "    .dataframe tbody tr th:only-of-type {\n",
              "        vertical-align: middle;\n",
              "    }\n",
              "\n",
              "    .dataframe tbody tr th {\n",
              "        vertical-align: top;\n",
              "    }\n",
              "\n",
              "    .dataframe thead th {\n",
              "        text-align: right;\n",
              "    }\n",
              "</style>\n",
              "<table border=\"1\" class=\"dataframe\">\n",
              "  <thead>\n",
              "    <tr style=\"text-align: right;\">\n",
              "      <th></th>\n",
              "      <th>Model</th>\n",
              "      <th>CV Accuracy</th>\n",
              "      <th>Accuracy</th>\n",
              "      <th>Precision</th>\n",
              "      <th>Recall</th>\n",
              "      <th>F1_score</th>\n",
              "    </tr>\n",
              "  </thead>\n",
              "  <tbody>\n",
              "    <tr>\n",
              "      <th>4</th>\n",
              "      <td>SVM (RBF)</td>\n",
              "      <td>0.756667</td>\n",
              "      <td>0.756222</td>\n",
              "      <td>0.757489</td>\n",
              "      <td>0.756222</td>\n",
              "      <td>0.755834</td>\n",
              "    </tr>\n",
              "    <tr>\n",
              "      <th>2</th>\n",
              "      <td>Log Reg</td>\n",
              "      <td>0.753048</td>\n",
              "      <td>0.754222</td>\n",
              "      <td>0.754223</td>\n",
              "      <td>0.754222</td>\n",
              "      <td>0.754213</td>\n",
              "    </tr>\n",
              "    <tr>\n",
              "      <th>3</th>\n",
              "      <td>SVM (Linear)</td>\n",
              "      <td>0.754476</td>\n",
              "      <td>0.753778</td>\n",
              "      <td>0.754102</td>\n",
              "      <td>0.753778</td>\n",
              "      <td>0.753651</td>\n",
              "    </tr>\n",
              "    <tr>\n",
              "      <th>5</th>\n",
              "      <td>SVM (Poly)</td>\n",
              "      <td>0.744381</td>\n",
              "      <td>0.745111</td>\n",
              "      <td>0.745205</td>\n",
              "      <td>0.745111</td>\n",
              "      <td>0.745108</td>\n",
              "    </tr>\n",
              "    <tr>\n",
              "      <th>8</th>\n",
              "      <td>RF</td>\n",
              "      <td>0.723905</td>\n",
              "      <td>0.727333</td>\n",
              "      <td>0.728513</td>\n",
              "      <td>0.727333</td>\n",
              "      <td>0.727080</td>\n",
              "    </tr>\n",
              "    <tr>\n",
              "      <th>0</th>\n",
              "      <td>KNN</td>\n",
              "      <td>0.724667</td>\n",
              "      <td>0.725556</td>\n",
              "      <td>0.726404</td>\n",
              "      <td>0.725556</td>\n",
              "      <td>0.725382</td>\n",
              "    </tr>\n",
              "    <tr>\n",
              "      <th>1</th>\n",
              "      <td>BNB</td>\n",
              "      <td>0.727905</td>\n",
              "      <td>0.721556</td>\n",
              "      <td>0.723854</td>\n",
              "      <td>0.721556</td>\n",
              "      <td>0.720985</td>\n",
              "    </tr>\n",
              "    <tr>\n",
              "      <th>6</th>\n",
              "      <td>SVM (Sig)</td>\n",
              "      <td>0.678571</td>\n",
              "      <td>0.674667</td>\n",
              "      <td>0.674760</td>\n",
              "      <td>0.674667</td>\n",
              "      <td>0.674660</td>\n",
              "    </tr>\n",
              "    <tr>\n",
              "      <th>7</th>\n",
              "      <td>DT</td>\n",
              "      <td>0.659429</td>\n",
              "      <td>0.667778</td>\n",
              "      <td>0.668015</td>\n",
              "      <td>0.667778</td>\n",
              "      <td>0.667730</td>\n",
              "    </tr>\n",
              "  </tbody>\n",
              "</table>\n",
              "</div>\n",
              "      <button class=\"colab-df-convert\" onclick=\"convertToInteractive('df-e820b137-dc9b-4fa5-a7e3-88055768c9bc')\"\n",
              "              title=\"Convert this dataframe to an interactive table.\"\n",
              "              style=\"display:none;\">\n",
              "        \n",
              "  <svg xmlns=\"http://www.w3.org/2000/svg\" height=\"24px\"viewBox=\"0 0 24 24\"\n",
              "       width=\"24px\">\n",
              "    <path d=\"M0 0h24v24H0V0z\" fill=\"none\"/>\n",
              "    <path d=\"M18.56 5.44l.94 2.06.94-2.06 2.06-.94-2.06-.94-.94-2.06-.94 2.06-2.06.94zm-11 1L8.5 8.5l.94-2.06 2.06-.94-2.06-.94L8.5 2.5l-.94 2.06-2.06.94zm10 10l.94 2.06.94-2.06 2.06-.94-2.06-.94-.94-2.06-.94 2.06-2.06.94z\"/><path d=\"M17.41 7.96l-1.37-1.37c-.4-.4-.92-.59-1.43-.59-.52 0-1.04.2-1.43.59L10.3 9.45l-7.72 7.72c-.78.78-.78 2.05 0 2.83L4 21.41c.39.39.9.59 1.41.59.51 0 1.02-.2 1.41-.59l7.78-7.78 2.81-2.81c.8-.78.8-2.07 0-2.86zM5.41 20L4 18.59l7.72-7.72 1.47 1.35L5.41 20z\"/>\n",
              "  </svg>\n",
              "      </button>\n",
              "      \n",
              "  <style>\n",
              "    .colab-df-container {\n",
              "      display:flex;\n",
              "      flex-wrap:wrap;\n",
              "      gap: 12px;\n",
              "    }\n",
              "\n",
              "    .colab-df-convert {\n",
              "      background-color: #E8F0FE;\n",
              "      border: none;\n",
              "      border-radius: 50%;\n",
              "      cursor: pointer;\n",
              "      display: none;\n",
              "      fill: #1967D2;\n",
              "      height: 32px;\n",
              "      padding: 0 0 0 0;\n",
              "      width: 32px;\n",
              "    }\n",
              "\n",
              "    .colab-df-convert:hover {\n",
              "      background-color: #E2EBFA;\n",
              "      box-shadow: 0px 1px 2px rgba(60, 64, 67, 0.3), 0px 1px 3px 1px rgba(60, 64, 67, 0.15);\n",
              "      fill: #174EA6;\n",
              "    }\n",
              "\n",
              "    [theme=dark] .colab-df-convert {\n",
              "      background-color: #3B4455;\n",
              "      fill: #D2E3FC;\n",
              "    }\n",
              "\n",
              "    [theme=dark] .colab-df-convert:hover {\n",
              "      background-color: #434B5C;\n",
              "      box-shadow: 0px 1px 3px 1px rgba(0, 0, 0, 0.15);\n",
              "      filter: drop-shadow(0px 1px 2px rgba(0, 0, 0, 0.3));\n",
              "      fill: #FFFFFF;\n",
              "    }\n",
              "  </style>\n",
              "\n",
              "      <script>\n",
              "        const buttonEl =\n",
              "          document.querySelector('#df-e820b137-dc9b-4fa5-a7e3-88055768c9bc button.colab-df-convert');\n",
              "        buttonEl.style.display =\n",
              "          google.colab.kernel.accessAllowed ? 'block' : 'none';\n",
              "\n",
              "        async function convertToInteractive(key) {\n",
              "          const element = document.querySelector('#df-e820b137-dc9b-4fa5-a7e3-88055768c9bc');\n",
              "          const dataTable =\n",
              "            await google.colab.kernel.invokeFunction('convertToInteractive',\n",
              "                                                     [key], {});\n",
              "          if (!dataTable) return;\n",
              "\n",
              "          const docLinkHtml = 'Like what you see? Visit the ' +\n",
              "            '<a target=\"_blank\" href=https://colab.research.google.com/notebooks/data_table.ipynb>data table notebook</a>'\n",
              "            + ' to learn more about interactive tables.';\n",
              "          element.innerHTML = '';\n",
              "          dataTable['output_type'] = 'display_data';\n",
              "          await google.colab.output.renderOutput(dataTable, element);\n",
              "          const docLink = document.createElement('div');\n",
              "          docLink.innerHTML = docLinkHtml;\n",
              "          element.appendChild(docLink);\n",
              "        }\n",
              "      </script>\n",
              "    </div>\n",
              "  </div>\n",
              "  "
            ]
          },
          "metadata": {},
          "execution_count": 46
        }
      ]
    }
  ],
  "metadata": {
    "colab": {
      "provenance": []
    },
    "kernelspec": {
      "display_name": "Python 3",
      "name": "python3"
    },
    "language_info": {
      "name": "python"
    }
  },
  "nbformat": 4,
  "nbformat_minor": 0
}